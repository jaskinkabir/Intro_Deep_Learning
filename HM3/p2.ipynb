{
 "cells": [
  {
   "cell_type": "code",
   "execution_count": null,
   "metadata": {},
   "outputs": [],
   "source": [
    "import torch\n",
    "from torch import nn\n",
    "from jlib.classifier import Classifier\n",
    "from jlib.get_shakespeare_loaders import *\n",
    "\n",
    "models = []\n",
    "datas = []\n",
    "text = \"\"\n",
    "with open('data/sequence.txt', 'r') as f:\n",
    "    text = f.read()\n",
    "\n",
    "class ShakespeareRNN(Classifier):\n",
    "    def __init__(self, alphabet_size, hidden_size, rnn=nn.RNN, linear_network=[], learning_rate = 1e-2, sequence_length = 20, dropout=0.3):\n",
    "        super().__init__()\n",
    "        self.learning_rate = learning_rate\n",
    "        self.sequence_length = sequence_length\n",
    "        self.hidden_size = hidden_size\n",
    "        self.embedding = nn.Embedding(alphabet_size, hidden_size)\n",
    "        self.rnn = rnn(hidden_size, hidden_size, batch_first=True)\n",
    "        self.fc = nn.Sequential()\n",
    "        linear_in = hidden_size\n",
    "        linear_out = alphabet_size\n",
    "        for i, layer_size in enumerate(linear_network):\n",
    "            self.fc.add_module(f'linear_{i}', nn.Linear(linear_in, layer_size))\n",
    "            self.fc.add_module(f'batchnorm_{i}', nn.BatchNorm1d(layer_size))\n",
    "            self.fc.add_module(f'relu_{i}', nn.ReLU())\n",
    "            self.fc.add_module(f'dropout_{i}', nn.Dropout(dropout))\n",
    "            linear_in = layer_size\n",
    "        self.fc.add_module('final_linear', nn.Linear(linear_in, linear_out))\n",
    "        \n",
    "    def forward(self, x):\n",
    "        x = self.embedding(x)\n",
    "        x, _ = self.rnn(x)\n",
    "        x = self.fc(x[:, -1, :])  # Get the output of the last RNN cell\n",
    "        return x\n",
    "\n",
    "def train_and_plot(train, val, model: ShakespeareRNN, name, *training_args, **training_kwargs):\n",
    "    print(f\"Training {name}\")\n",
    "    param_count = sum(p.numel() for p in model.parameters())\n",
    "    print(f\"Model has {param_count} parameters\")\n",
    "    model.train_model(\n",
    "        *training_args,\n",
    "        **training_kwargs,\n",
    "        train_loader=train,\n",
    "        val_loader=val,\n",
    "    )\n",
    "    fig = model.plot_training(f\"{name} Training\")\n",
    "    fig.savefig(f\"images/{name}_training_new.png\")\n",
    "    print(f\"Model has {param_count} parameters\")\n",
    "    model.train_model(*training_args, **training_kwargs)\n",
    "    fig = model.plot_training(f\"{name} Training\")\n",
    "    fig.savefig(f\"images/{name}_training_new.png\")\n",
    "\n"
   ]
  },
  {
   "cell_type": "markdown",
   "metadata": {},
   "source": [
    "# LSTM 20"
   ]
  },
  {
   "cell_type": "code",
   "execution_count": 3,
   "metadata": {},
   "outputs": [
    {
     "name": "stdout",
     "output_type": "stream",
     "text": [
      "|         17         |     12.059863      |      1.506090      |      1.522133      |      1.065223      |     54.237812      |      0.428305      |    5.365932e-08    |      8.688843      |\n",
      "----------------------------------------------------------------------------------------------------------------------------------------------------------------------------------------------\n",
      "|         18         |     11.342974      |      1.497544      |      1.514246      |      1.115282      |     54.447159      |      0.385979      |    4.752802e-08    |      8.688843      |\n",
      "----------------------------------------------------------------------------------------------------------------------------------------------------------------------------------------------\n",
      "|         19         |     12.041207      |      1.488781      |      1.508447      |      1.320974      |     54.562815      |      0.212419      |    6.733981e-08    |      8.688843      |\n",
      "----------------------------------------------------------------------------------------------------------------------------------------------------------------------------------------------\n",
      "|         20         |     12.083849      |      1.480986      |      1.501713      |      1.399519      |     54.673092      |      0.202110      |    5.309669e-08    |      8.688843      |\n",
      "----------------------------------------------------------------------------------------------------------------------------------------------------------------------------------------------\n",
      "|         21         |     11.493664      |      1.474126      |      1.495362      |      1.440595      |     54.853749      |      0.330431      |    5.387552e-08    |      8.688843      |\n",
      "----------------------------------------------------------------------------------------------------------------------------------------------------------------------------------------------\n",
      "|         22         |     11.431560      |      1.467327      |      1.490170      |      1.556779      |     54.967612      |      0.207576      |    4.475043e-08    |      8.688843      |\n",
      "----------------------------------------------------------------------------------------------------------------------------------------------------------------------------------------------\n",
      "|         23         |     10.807241      |      1.461237      |      1.486842      |      1.752283      |     54.955508      |     -0.022019      |    5.244586e-08    |      8.688843      |\n",
      "----------------------------------------------------------------------------------------------------------------------------------------------------------------------------------------------\n",
      "|         24         |     11.357683      |      1.455291      |      1.481271      |      1.785224      |     55.219993      |      0.459146      |    4.630832e-08    |      8.688843      |\n",
      "----------------------------------------------------------------------------------------------------------------------------------------------------------------------------------------------\n",
      "|         25         |     11.911990      |      1.449630      |      1.477184      |      1.900728      |     55.311891      |      0.166420      |    4.782747e-08    |      8.688843      |\n",
      "----------------------------------------------------------------------------------------------------------------------------------------------------------------------------------------------\n",
      "|         26         |     11.666036      |      1.444719      |      1.472197      |      1.901980      |     55.446375      |      0.243137      |    5.018095e-08    |      8.688843      |\n",
      "----------------------------------------------------------------------------------------------------------------------------------------------------------------------------------------------\n",
      "|         27         |     11.632911      |      1.439347      |      1.469589      |      2.101097      |     55.365684      |     -0.145529      |    4.413392e-08    |      8.688843      |\n",
      "----------------------------------------------------------------------------------------------------------------------------------------------------------------------------------------------\n",
      "|         28         |     11.568645      |      1.434923      |      1.465087      |      2.102104      |     55.592065      |      0.262760      |    5.065249e-08    |      8.688843      |\n",
      "----------------------------------------------------------------------------------------------------------------------------------------------------------------------------------------------\n",
      "|         29         |     11.906006      |      1.430273      |      1.462665      |      2.264788      |     55.600583      |      0.015321      |    5.162814e-08    |      8.688843      |\n",
      "----------------------------------------------------------------------------------------------------------------------------------------------------------------------------------------------\n",
      "|       Epoch        |   Epoch Time (s)   |   Training Loss    |     Test Loss      |    Overfit (%)     |    Accuracy (%)    |   Δ Accuracy (%)   | Avg Inference Time |  GPU Memory (GiB)  |\n",
      "----------------------------------------------------------------------------------------------------------------------------------------------------------------------------------------------\n",
      "|         30         |     11.905731      |      1.426238      |      1.458693      |      2.275556      |     55.762860      |      0.291863      |    5.071206e-08    |      8.688843      |\n",
      "----------------------------------------------------------------------------------------------------------------------------------------------------------------------------------------------\n",
      "|         31         |     11.523376      |      1.422176      |      1.456106      |      2.385793      |     55.829654      |      0.119782      |    5.049357e-08    |      8.688843      |\n",
      "----------------------------------------------------------------------------------------------------------------------------------------------------------------------------------------------\n",
      "|         32         |     11.307842      |      1.418278      |      1.453594      |      2.490110      |     55.855654      |      0.046571      |    6.104277e-08    |      8.688843      |\n",
      "----------------------------------------------------------------------------------------------------------------------------------------------------------------------------------------------\n",
      "|         33         |     11.677456      |      1.414527      |      1.453112      |      2.727778      |     55.847585      |     -0.014446      |    6.008758e-08    |      8.688843      |\n",
      "----------------------------------------------------------------------------------------------------------------------------------------------------------------------------------------------\n",
      "|         34         |     11.630725      |      1.411349      |      1.450118      |      2.746929      |     55.942620      |      0.155698      |    4.724720e-08    |      8.688843      |\n",
      "----------------------------------------------------------------------------------------------------------------------------------------------------------------------------------------------\n",
      "|         35         |     11.489614      |      1.407638      |      1.446081      |      2.731037      |     56.073070      |      0.233184      |    4.906622e-08    |      8.688843      |\n",
      "----------------------------------------------------------------------------------------------------------------------------------------------------------------------------------------------\n",
      "|         36         |     11.419707      |      1.404644      |      1.444535      |      2.839940      |     56.150622      |      0.138306      |    4.555172e-08    |      8.688843      |\n",
      "----------------------------------------------------------------------------------------------------------------------------------------------------------------------------------------------\n",
      "|         37         |     12.029697      |      1.401287      |      1.442010      |      2.906112      |     56.150622      |      0.000000      |    8.442216e-08    |      8.688843      |\n",
      "----------------------------------------------------------------------------------------------------------------------------------------------------------------------------------------------\n",
      "|         38         |     11.508957      |      1.398435      |      1.441646      |      3.089956      |     56.212933      |      0.110971      |    7.808120e-08    |      8.688843      |\n",
      "----------------------------------------------------------------------------------------------------------------------------------------------------------------------------------------------\n",
      "|         39         |     12.121105      |      1.395855      |      1.437912      |      3.013011      |     56.215623      |      0.004785      |    5.673605e-08    |      8.688843      |\n",
      "----------------------------------------------------------------------------------------------------------------------------------------------------------------------------------------------\n",
      "|         40         |     11.538646      |      1.392505      |      1.436670      |      3.171612      |     56.262692      |      0.083730      |    4.528845e-08    |      8.688843      |\n",
      "----------------------------------------------------------------------------------------------------------------------------------------------------------------------------------------------\n",
      "|         41         |     12.300669      |      1.389973      |      1.435268      |      3.258718      |     56.320072      |      0.101986      |    6.949431e-08    |      8.688843      |\n",
      "----------------------------------------------------------------------------------------------------------------------------------------------------------------------------------------------\n",
      "|         42         |     12.219333      |      1.387416      |      1.432843      |      3.274194      |     56.404797      |      0.150435      |    7.610007e-08    |      8.688843      |\n",
      "----------------------------------------------------------------------------------------------------------------------------------------------------------------------------------------------\n",
      "|         43         |     12.658199      |      1.385067      |      1.432084      |      3.394551      |     56.420486      |      0.027816      |    9.010579e-08    |      8.688843      |\n",
      "----------------------------------------------------------------------------------------------------------------------------------------------------------------------------------------------\n",
      "|         44         |     11.588930      |      1.382743      |      1.430160      |      3.429203      |     56.387314      |     -0.058795      |    5.357387e-08    |      8.688843      |\n",
      "----------------------------------------------------------------------------------------------------------------------------------------------------------------------------------------------\n",
      "|       Epoch        |   Epoch Time (s)   |   Training Loss    |     Test Loss      |    Overfit (%)     |    Accuracy (%)    |   Δ Accuracy (%)   | Avg Inference Time |  GPU Memory (GiB)  |\n",
      "----------------------------------------------------------------------------------------------------------------------------------------------------------------------------------------------\n",
      "|         45         |     11.958220      |      1.380209      |      1.429425      |      3.565787      |     56.454556      |      0.060385      |    4.630203e-08    |      8.688843      |\n",
      "----------------------------------------------------------------------------------------------------------------------------------------------------------------------------------------------\n",
      "|         46         |     11.739239      |      1.378365      |      1.427944      |      3.596936      |     56.537039      |      0.146106      |    5.421518e-08    |      8.688843      |\n",
      "----------------------------------------------------------------------------------------------------------------------------------------------------------------------------------------------\n",
      "|         47         |     12.158042      |      1.375725      |      1.426819      |      3.713956      |     56.549143      |      0.021408      |    5.167410e-08    |      8.688843      |\n",
      "----------------------------------------------------------------------------------------------------------------------------------------------------------------------------------------------\n",
      "|         48         |     11.460421      |      1.373498      |      1.425426      |      3.780712      |     56.593522      |      0.078480      |    7.304941e-08    |      8.688843      |\n",
      "----------------------------------------------------------------------------------------------------------------------------------------------------------------------------------------------\n",
      "|         49         |     12.124907      |      1.371428      |      1.423964      |      3.830760      |     56.610557      |      0.030100      |    5.496822e-08    |      8.688843      |\n",
      "----------------------------------------------------------------------------------------------------------------------------------------------------------------------------------------------\n",
      "\n",
      "Training Time: 346.1050305366516 seconds\n",
      "\n"
     ]
    },
    {
     "name": "stderr",
     "output_type": "stream",
     "text": [
      "/home/jaskin/Intro_Deep_Learning/HM3/jlib/classifier.py:237: UserWarning: To copy construct from a tensor, it is recommended to use sourceTensor.clone().detach() or sourceTensor.clone().detach().requires_grad_(True), rather than torch.tensor(sourceTensor).\n",
      "  self.last_pred = torch.tensor(Y_pred_eval)\n"
     ]
    },
    {
     "name": "stdout",
     "output_type": "stream",
     "text": [
      "Model has 148801 parameters\n"
     ]
    },
    {
     "ename": "TypeError",
     "evalue": "Classifier.train_model() missing 2 required positional arguments: 'train_loader' and 'val_loader'",
     "output_type": "error",
     "traceback": [
      "\u001b[0;31m---------------------------------------------------------------------------\u001b[0m",
      "\u001b[0;31mTypeError\u001b[0m                                 Traceback (most recent call last)",
      "Cell \u001b[0;32mIn[3], line 18\u001b[0m\n\u001b[1;32m     12\u001b[0m lstm20 \u001b[38;5;241m=\u001b[39m ShakespeareRNN(\n\u001b[1;32m     13\u001b[0m     alphabet_size\u001b[38;5;241m=\u001b[39m\u001b[38;5;28mlen\u001b[39m(data_20[\u001b[38;5;124m'\u001b[39m\u001b[38;5;124mchars\u001b[39m\u001b[38;5;124m'\u001b[39m]),\n\u001b[1;32m     14\u001b[0m     hidden_size\u001b[38;5;241m=\u001b[39m\u001b[38;5;241m128\u001b[39m,\n\u001b[1;32m     15\u001b[0m     rnn\u001b[38;5;241m=\u001b[39mnn\u001b[38;5;241m.\u001b[39mLSTM,\n\u001b[1;32m     16\u001b[0m )\u001b[38;5;241m.\u001b[39mto(\u001b[38;5;124m'\u001b[39m\u001b[38;5;124mcuda\u001b[39m\u001b[38;5;124m'\u001b[39m)\n\u001b[1;32m     17\u001b[0m models\u001b[38;5;241m.\u001b[39mappend(lstm20)\n\u001b[0;32m---> 18\u001b[0m \u001b[43mtrain_and_plot\u001b[49m\u001b[43m(\u001b[49m\n\u001b[1;32m     19\u001b[0m \u001b[43m    \u001b[49m\u001b[43mdata_20\u001b[49m\u001b[43m[\u001b[49m\u001b[38;5;124;43m'\u001b[39;49m\u001b[38;5;124;43mtrain_loader\u001b[39;49m\u001b[38;5;124;43m'\u001b[39;49m\u001b[43m]\u001b[49m\u001b[43m,\u001b[49m\n\u001b[1;32m     20\u001b[0m \u001b[43m    \u001b[49m\u001b[43mdata_20\u001b[49m\u001b[43m[\u001b[49m\u001b[38;5;124;43m'\u001b[39;49m\u001b[38;5;124;43mval_loader\u001b[39;49m\u001b[38;5;124;43m'\u001b[39;49m\u001b[43m]\u001b[49m\u001b[43m,\u001b[49m\n\u001b[1;32m     21\u001b[0m \u001b[43m    \u001b[49m\u001b[43mlstm20\u001b[49m\u001b[43m,\u001b[49m\n\u001b[1;32m     22\u001b[0m \u001b[43m    \u001b[49m\u001b[38;5;124;43m\"\u001b[39;49m\u001b[38;5;124;43mLSTM-20\u001b[39;49m\u001b[38;5;124;43m\"\u001b[39;49m\u001b[43m,\u001b[49m\n\u001b[1;32m     23\u001b[0m \u001b[43m    \u001b[49m\u001b[43mepochs\u001b[49m\u001b[38;5;241;43m=\u001b[39;49m\u001b[38;5;241;43m50\u001b[39;49m\u001b[43m,\u001b[49m\n\u001b[1;32m     24\u001b[0m \u001b[43m    \u001b[49m\u001b[43moptimizer\u001b[49m\u001b[43m \u001b[49m\u001b[38;5;241;43m=\u001b[39;49m\u001b[43m \u001b[49m\u001b[43mtorch\u001b[49m\u001b[38;5;241;43m.\u001b[39;49m\u001b[43moptim\u001b[49m\u001b[38;5;241;43m.\u001b[39;49m\u001b[43mAdam\u001b[49m\u001b[43m,\u001b[49m\n\u001b[1;32m     25\u001b[0m \u001b[43m    \u001b[49m\u001b[43moptimizer_kwargs\u001b[49m\u001b[43m \u001b[49m\u001b[38;5;241;43m=\u001b[39;49m\u001b[43m \u001b[49m\u001b[43m{\u001b[49m\u001b[38;5;124;43m'\u001b[39;49m\u001b[38;5;124;43mlr\u001b[39;49m\u001b[38;5;124;43m'\u001b[39;49m\u001b[43m:\u001b[49m\u001b[43m \u001b[49m\u001b[38;5;241;43m0.001\u001b[39;49m\u001b[43m}\u001b[49m\u001b[43m,\u001b[49m\n\u001b[1;32m     26\u001b[0m \u001b[43m    \u001b[49m\u001b[43mmin_accuracy\u001b[49m\u001b[43m \u001b[49m\u001b[38;5;241;43m=\u001b[39;49m\u001b[43m \u001b[49m\u001b[38;5;241;43m0.99\u001b[39;49m\u001b[43m,\u001b[49m\n\u001b[1;32m     27\u001b[0m \u001b[43m    \u001b[49m\u001b[43mmax_negative_diff_count\u001b[49m\u001b[43m \u001b[49m\u001b[38;5;241;43m=\u001b[39;49m\u001b[43m \u001b[49m\u001b[38;5;241;43m7\u001b[39;49m\u001b[43m   \u001b[49m\n\u001b[1;32m     28\u001b[0m \u001b[43m)\u001b[49m\n",
      "Cell \u001b[0;32mIn[2], line 50\u001b[0m, in \u001b[0;36mtrain_and_plot\u001b[0;34m(train, val, model, name, *training_args, **training_kwargs)\u001b[0m\n\u001b[1;32m     48\u001b[0m fig\u001b[38;5;241m.\u001b[39msavefig(\u001b[38;5;124mf\u001b[39m\u001b[38;5;124m\"\u001b[39m\u001b[38;5;124mimages/\u001b[39m\u001b[38;5;132;01m{\u001b[39;00mname\u001b[38;5;132;01m}\u001b[39;00m\u001b[38;5;124m_training_new.png\u001b[39m\u001b[38;5;124m\"\u001b[39m)\n\u001b[1;32m     49\u001b[0m \u001b[38;5;28mprint\u001b[39m(\u001b[38;5;124mf\u001b[39m\u001b[38;5;124m\"\u001b[39m\u001b[38;5;124mModel has \u001b[39m\u001b[38;5;132;01m{\u001b[39;00mparam_count\u001b[38;5;132;01m}\u001b[39;00m\u001b[38;5;124m parameters\u001b[39m\u001b[38;5;124m\"\u001b[39m)\n\u001b[0;32m---> 50\u001b[0m \u001b[43mmodel\u001b[49m\u001b[38;5;241;43m.\u001b[39;49m\u001b[43mtrain_model\u001b[49m\u001b[43m(\u001b[49m\u001b[38;5;241;43m*\u001b[39;49m\u001b[43mtraining_args\u001b[49m\u001b[43m,\u001b[49m\u001b[43m \u001b[49m\u001b[38;5;241;43m*\u001b[39;49m\u001b[38;5;241;43m*\u001b[39;49m\u001b[43mtraining_kwargs\u001b[49m\u001b[43m)\u001b[49m\n\u001b[1;32m     51\u001b[0m fig \u001b[38;5;241m=\u001b[39m model\u001b[38;5;241m.\u001b[39mplot_training(\u001b[38;5;124mf\u001b[39m\u001b[38;5;124m\"\u001b[39m\u001b[38;5;132;01m{\u001b[39;00mname\u001b[38;5;132;01m}\u001b[39;00m\u001b[38;5;124m Training\u001b[39m\u001b[38;5;124m\"\u001b[39m)\n\u001b[1;32m     52\u001b[0m fig\u001b[38;5;241m.\u001b[39msavefig(\u001b[38;5;124mf\u001b[39m\u001b[38;5;124m\"\u001b[39m\u001b[38;5;124mimages/\u001b[39m\u001b[38;5;132;01m{\u001b[39;00mname\u001b[38;5;132;01m}\u001b[39;00m\u001b[38;5;124m_training_new.png\u001b[39m\u001b[38;5;124m\"\u001b[39m)\n",
      "\u001b[0;31mTypeError\u001b[0m: Classifier.train_model() missing 2 required positional arguments: 'train_loader' and 'val_loader'"
     ]
    },
    {
     "data": {
      "image/png": "[encoded data removed]",
      "text/plain": [
       "<Figure size 640x480 with 2 Axes>"
      ]
     },
     "metadata": {},
     "output_type": "display_data"
    }
   ],
   "source": [
    "data_20 = get_shakespeare_loaders(\n",
    "    train_batch_size=2**13,\n",
    "    val_batch_size=2**15,\n",
    "    sequence_length=20,\n",
    ")\n",
    "datas.append(data_20)\n",
    "\n",
    "for model in models:\n",
    "    del model\n",
    "\n",
    "lstm20 = ShakespeareRNN(\n",
    "    alphabet_size=len(data_20['chars']),\n",
    "    hidden_size=128,\n",
    "    rnn=nn.LSTM,\n",
    ").to('cuda')\n",
    "models.append(lstm20)\n",
    "train_and_plot(\n",
    "    data_20['train_loader'],\n",
    "    data_20['val_loader'],\n",
    "    lstm20,\n",
    "    \"LSTM-20\",\n",
    "    epochs=50,\n",
    "    optimizer = torch.optim.Adam,\n",
    "    optimizer_kwargs = {'lr': 0.001},\n",
    "    min_accuracy = 0.99,\n",
    "    max_negative_diff_count = 7   \n",
    ")"
   ]
  },
  {
   "cell_type": "markdown",
   "metadata": {},
   "source": [
    "# LSTM-Adjusted-20"
   ]
  },
  {
   "cell_type": "code",
   "execution_count": null,
   "metadata": {},
   "outputs": [
    {
     "name": "stdout",
     "output_type": "stream",
     "text": [
      "Training LSTM-20\n",
      "Model has 113093 parameters\n",
      "Training ShakespeareRNN\n",
      "\n",
      "----------------------------------------------------------------------------------------------------------------------------------------------------------------------------------------------\n"
     ]
    },
    {
     "name": "stderr",
     "output_type": "stream",
     "text": [
      "/home/jaskin/Intro_Deep_Learning/HM3/jlib/classifier.py:108: UserWarning: To copy construct from a tensor, it is recommended to use sourceTensor.clone().detach() or sourceTensor.clone().detach().requires_grad_(True), rather than torch.tensor(sourceTensor).\n",
      "  self.last_val = torch.tensor(val_loader.data_iterable.dataset.dataset.targets)\n"
     ]
    }
   ],
   "source": [
    "for model in models:\n",
    "    del model\n",
    "\n",
    "lstm_adj_20 = ShakespeareRNN(\n",
    "    alphabet_size=len(data_20['chars']),\n",
    "    hidden_size=100,\n",
    "    rnn=nn.LSTM,\n",
    "    linear_network=[128,64],\n",
    "    dropout=0.3\n",
    ").to('cuda')\n",
    "models.append(lstm_adj_20)\n",
    "train_and_plot(\n",
    "    data_20['train_loader'],\n",
    "    data_20['val_loader'],\n",
    "    lstm_adj_20,\n",
    "    \"LSTM-20\",\n",
    "    epochs=50,\n",
    "    optimizer = torch.optim.Adam,\n",
    "    optimizer_kwargs = {'lr': 0.001},\n",
    "    min_accuracy = 0.99,\n",
    "    max_negative_diff_count = 7   \n",
    ")"
   ]
  },
  {
   "cell_type": "markdown",
   "metadata": {},
   "source": [
    "# GRU-20"
   ]
  },
  {
   "cell_type": "code",
   "execution_count": null,
   "metadata": {},
   "outputs": [],
   "source": [
    "for model in models:\n",
    "    del model\n",
    "\n",
    "gru_20 = ShakespeareRNN(\n",
    "    alphabet_size=len(data_20['chars']),\n",
    "    hidden_size=128,\n",
    "    rnn=nn.GRU,\n",
    ").to('cuda')\n",
    "models.append(gru_20)\n",
    "train_and_plot(\n",
    "    data_20['train_loader'],\n",
    "    data_20['val_loader'],\n",
    "    gru_20,\n",
    "    \"GRU-20\",\n",
    "    epochs=50,\n",
    "    optimizer = torch.optim.Adam,\n",
    "    optimizer_kwargs = {'lr': 0.001},\n",
    "    min_accuracy = 0.99,\n",
    "    max_negative_diff_count = 7   \n",
    ")"
   ]
  },
  {
   "cell_type": "markdown",
   "metadata": {},
   "source": [
    "# GRU-Adjusted-20"
   ]
  },
  {
   "cell_type": "code",
   "execution_count": null,
   "metadata": {},
   "outputs": [],
   "source": [
    "for model in models:\n",
    "    del model\n",
    "\n",
    "gru_adj_20 = ShakespeareRNN(\n",
    "    alphabet_size=len(data_20['chars']),\n",
    "    hidden_size=100,\n",
    "    rnn=nn.GRU,\n",
    "    linear_network=[128,64],\n",
    "    dropout=0.3\n",
    ").to('cuda')\n",
    "models.append(gru_adj_20)\n",
    "train_and_plot(\n",
    "    data_20['train_loader'],\n",
    "    data_20['val_loader'],\n",
    "    gru_adj_20,\n",
    "    \"GRU-20\",\n",
    "    epochs=50,\n",
    "    optimizer = torch.optim.Adam,\n",
    "    optimizer_kwargs = {'lr': 0.001},\n",
    "    min_accuracy = 0.99,\n",
    "    max_negative_diff_count = 7   \n",
    ")"
   ]
  },
  {
   "cell_type": "markdown",
   "metadata": {},
   "source": [
    "# LSTM-30"
   ]
  },
  {
   "cell_type": "code",
   "execution_count": null,
   "metadata": {},
   "outputs": [],
   "source": [
    "for data in datas:\n",
    "    del data\n",
    "\n",
    "data_30 = get_shakespeare_loaders(\n",
    "    train_batch_size=2**13,\n",
    "    val_batch_size=2**15,\n",
    "    sequence_length=20,\n",
    ")\n",
    "datas.append(data_30)\n",
    "\n",
    "for model in models:\n",
    "    del model\n",
    "\n",
    "\n",
    "lstm30 = ShakespeareRNN(\n",
    "    alphabet_size=len(data_30['chars']),\n",
    "    hidden_size=128,\n",
    "    rnn=nn.LSTM,\n",
    ").to('cuda')\n",
    "models.append(lstm30)\n",
    "train_and_plot(\n",
    "    data_30['train_loader'],\n",
    "    data_30['val_loader'],\n",
    "    lstm30,\n",
    "    \"LSTM-20\",\n",
    "    epochs=50,\n",
    "    optimizer = torch.optim.Adam,\n",
    "    optimizer_kwargs = {'lr': 0.001},\n",
    "    min_accuracy = 0.99,\n",
    "    max_negative_diff_count = 7   \n",
    ")"
   ]
  },
  {
   "cell_type": "markdown",
   "metadata": {},
   "source": [
    "# LSTM-Adjusted-30"
   ]
  },
  {
   "cell_type": "code",
   "execution_count": null,
   "metadata": {},
   "outputs": [],
   "source": [
    "for model in models:\n",
    "    del model\n",
    "lstmadj_30 = ShakespeareRNN(\n",
    "    alphabet_size=len(data_30['chars']),\n",
    "    hidden_size=100,\n",
    "    rnn=nn.LSTM,\n",
    "    linear_network=[128,64],\n",
    "    dropout=0.3\n",
    ").to('cuda')\n",
    "models.append(lstmadj_30)\n",
    "train_and_plot(\n",
    "    data_30['train_loader'],\n",
    "    data_30['val_loader'],\n",
    "    lstmadj_30,\n",
    "    \"LSTM-20\",\n",
    "    epochs=50,\n",
    "    optimizer = torch.optim.Adam,\n",
    "    optimizer_kwargs = {'lr': 0.001},\n",
    "    min_accuracy = 0.99,\n",
    "    max_negative_diff_count = 7   \n",
    ")"
   ]
  },
  {
   "cell_type": "markdown",
   "metadata": {},
   "source": [
    "# GRU-30"
   ]
  },
  {
   "cell_type": "code",
   "execution_count": null,
   "metadata": {},
   "outputs": [],
   "source": [
    "gru_30 = ShakespeareRNN(\n",
    "    alphabet_size=len(data_30['chars']),\n",
    "    hidden_size=128,\n",
    "    rnn=nn.GRU,\n",
    ").to('cuda')\n",
    "models.append(gru_30)\n",
    "train_and_plot(\n",
    "    data_30['train_loader'],\n",
    "    data_30['val_loader'],\n",
    "    gru_30,\n",
    "    \"GRU-20\",\n",
    "    epochs=50,\n",
    "    optimizer = torch.optim.Adam,\n",
    "    optimizer_kwargs = {'lr': 0.001},\n",
    "    min_accuracy = 0.99,\n",
    "    max_negative_diff_count = 7   \n",
    ")"
   ]
  },
  {
   "cell_type": "markdown",
   "metadata": {},
   "source": [
    "# GRU-Adjusted-30"
   ]
  },
  {
   "cell_type": "code",
   "execution_count": null,
   "metadata": {},
   "outputs": [],
   "source": [
    "for model in models:\n",
    "    del model\n",
    "gru_adj_30 = ShakespeareRNN(\n",
    "    alphabet_size=len(data_30['chars']),\n",
    "    hidden_size=100,\n",
    "    rnn=nn.GRU,\n",
    "    linear_network=[128,64],\n",
    "    dropout=0.3\n",
    ")\n",
    "models.append(gru_adj_30)\n",
    "train_and_plot(\n",
    "    data_30['train_loader'],\n",
    "    data_30['val_loader'],\n",
    "    gru_adj_30,\n",
    "    \"GRU-20\",\n",
    "    epochs=50,\n",
    "    optimizer = torch.optim.Adam,\n",
    "    optimizer_kwargs = {'lr': 0.001},\n",
    "    min_accuracy = 0.99,\n",
    "    max_negative_diff_count = 7   \n",
    ")"
   ]
  },
  {
   "cell_type": "markdown",
   "metadata": {},
   "source": [
    "# LSTM-50"
   ]
  },
  {
   "cell_type": "code",
   "execution_count": null,
   "metadata": {},
   "outputs": [],
   "source": [
    "for data in datas:\n",
    "    del data\n",
    "\n",
    "data_50 = get_shakespeare_loaders(\n",
    "    train_batch_size=2**13,\n",
    "    val_batch_size=2**15,\n",
    "    sequence_length=20,\n",
    ")\n",
    "datas.append(data_50)"
   ]
  },
  {
   "cell_type": "code",
   "execution_count": null,
   "metadata": {},
   "outputs": [],
   "source": [
    "for model in models:\n",
    "    del model\n",
    "    \n",
    "lstm50 = ShakespeareRNN(\n",
    "    alphabet_size=len(data_50['chars']),\n",
    "    hidden_size=128,\n",
    "    rnn=nn.LSTM,\n",
    ").to('cuda')\n",
    "models.append(lstm50)\n",
    "train_and_plot(\n",
    "    data_50['train_loader'],\n",
    "    data_50['val_loader'],\n",
    "    lstm50,\n",
    "    \"LSTM-20\",\n",
    "    epochs=50,\n",
    "    optimizer = torch.optim.Adam,\n",
    "    optimizer_kwargs = {'lr': 0.001},\n",
    "    min_accuracy = 0.99,\n",
    "    max_negative_diff_count = 7   \n",
    ")"
   ]
  },
  {
   "cell_type": "markdown",
   "metadata": {},
   "source": [
    "# LSTM-Adjusted-50"
   ]
  },
  {
   "cell_type": "code",
   "execution_count": null,
   "metadata": {},
   "outputs": [],
   "source": [
    "lstmadj_50 = ShakespeareRNN(\n",
    "    alphabet_size=len(data_50['chars']),\n",
    "    hidden_size=100,\n",
    "    rnn=nn.LSTM,\n",
    "    linear_network=[128,64],\n",
    "    dropout=0.3\n",
    ").to('cuda')\n",
    "models.append(lstmadj_50)\n",
    "\n",
    "train_and_plot(\n",
    "    data_50['train_loader'],\n",
    "    data_50['val_loader'],\n",
    "    lstmadj_50,\n",
    "    \"LSTM-20\",\n",
    "    epochs=50,\n",
    "    optimizer = torch.optim.Adam,\n",
    "    optimizer_kwargs = {'lr': 0.001},\n",
    "    min_accuracy = 0.99,\n",
    "    max_negative_diff_count = 7   \n",
    ")\n"
   ]
  },
  {
   "cell_type": "markdown",
   "metadata": {},
   "source": [
    "# GRU-50"
   ]
  },
  {
   "cell_type": "code",
   "execution_count": null,
   "metadata": {},
   "outputs": [],
   "source": [
    "for model in models:\n",
    "    del model\n",
    "gru_50 = ShakespeareRNN(\n",
    "    alphabet_size=len(data_50['chars']),\n",
    "    hidden_size=128,\n",
    "    rnn=nn.GRU,\n",
    ").to('cuda')\n",
    "\n",
    "models.append(gru_50)\n",
    "\n",
    "train_and_plot(\n",
    "    data_50['train_loader'],\n",
    "    data_50['val_loader'],\n",
    "    gru_50,\n",
    "    \"GRU-20\",\n",
    "    epochs=50,\n",
    "    optimizer = torch.optim.Adam,\n",
    "    optimizer_kwargs = {'lr': 0.001},\n",
    "    min_accuracy = 0.99,\n",
    "    max_negative_diff_count = 7   \n",
    ")"
   ]
  },
  {
   "cell_type": "markdown",
   "metadata": {},
   "source": [
    "# GRU-Adjusted-50"
   ]
  },
  {
   "cell_type": "code",
   "execution_count": null,
   "metadata": {},
   "outputs": [],
   "source": [
    "gru_adj_50 = ShakespeareRNN(\n",
    "    alphabet_size=len(data_50['chars']),\n",
    "    hidden_size=100,\n",
    "    rnn=nn.GRU,\n",
    "    linear_network=[128,64],\n",
    "    dropout=0.3\n",
    ").to('cuda')\n",
    "models.append(gru_adj_50)\n",
    "train_and_plot(\n",
    "    data_50['train_loader'],\n",
    "    data_50['val_loader'],\n",
    "    gru_adj_50,\n",
    "    \"GRU-20\",\n",
    "    epochs=50,\n",
    "    optimizer = torch.optim.Adam,\n",
    "    optimizer_kwargs = {'lr': 0.001},\n",
    "    min_accuracy = 0.99,\n",
    "    max_negative_diff_count = 7   \n",
    ")"
   ]
  }
 ],
 "metadata": {
  "kernelspec": {
   "display_name": "env",
   "language": "python",
   "name": "python3"
  },
  "language_info": {
   "codemirror_mode": {
    "name": "ipython",
    "version": 3
   },
   "file_extension": ".py",
   "mimetype": "text/x-python",
   "name": "python",
   "nbconvert_exporter": "python",
   "pygments_lexer": "ipython3",
   "version": "3.11.11"
  }
 },
 "nbformat": 4,
 "nbformat_minor": 2
}
