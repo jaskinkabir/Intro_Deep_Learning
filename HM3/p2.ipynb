{
 "cells": [
  {
   "cell_type": "markdown",
   "metadata": {},
   "source": [
    "# Init"
   ]
  },
  {
   "cell_type": "code",
   "execution_count": 1,
   "metadata": {},
   "outputs": [
    {
     "name": "stderr",
     "output_type": "stream",
     "text": [
      "/home/jaskin/Intro_Deep_Learning/env/lib/python3.11/site-packages/tqdm/auto.py:21: TqdmWarning: IProgress not found. Please update jupyter and ipywidgets. See https://ipywidgets.readthedocs.io/en/stable/user_install.html\n",
      "  from .autonotebook import tqdm as notebook_tqdm\n"
     ]
    }
   ],
   "source": [
    "import torch\n",
    "from torch import nn\n",
    "from jlib.classifier import Classifier\n",
    "from jlib.get_shakespeare_loaders import get_shakespeare_loaders\n",
    "\n",
    "models = []\n",
    "datas = []\n",
    "text = \"\"\n",
    "with open('data/sequence.txt', 'r') as f:\n",
    "    text = f.read()\n",
    "\n",
    "class ShakespeareRNN(Classifier):\n",
    "    def __init__(self, alphabet_size, hidden_size, rnn=nn.RNN, linear_network=[], learning_rate = 1e-2, sequence_length = 20, dropout=0.3):\n",
    "        super().__init__()\n",
    "        self.learning_rate = learning_rate\n",
    "        self.sequence_length = sequence_length\n",
    "        self.hidden_size = hidden_size\n",
    "        self.embedding = nn.Embedding(alphabet_size, hidden_size)\n",
    "        self.rnn = rnn(hidden_size, hidden_size, batch_first=True)\n",
    "        self.fc = nn.Sequential()\n",
    "        linear_in = hidden_size\n",
    "        linear_out = alphabet_size\n",
    "        for i, layer_size in enumerate(linear_network):\n",
    "            self.fc.add_module(f'linear_{i}', nn.Linear(linear_in, layer_size))\n",
    "            self.fc.add_module(f'batchnorm_{i}', nn.BatchNorm1d(layer_size))\n",
    "            self.fc.add_module(f'relu_{i}', nn.ReLU())\n",
    "            self.fc.add_module(f'dropout_{i}', nn.Dropout(dropout))\n",
    "            linear_in = layer_size\n",
    "        self.fc.add_module('final_linear', nn.Linear(linear_in, linear_out))\n",
    "        \n",
    "    def forward(self, x):\n",
    "        x = self.embedding(x)\n",
    "        x, _ = self.rnn(x)\n",
    "        x = self.fc(x[:, -1, :])  # Get the output of the last RNN cell\n",
    "        return x\n",
    "\n",
    "def train_and_plot(train, val, model: ShakespeareRNN, name, *training_args, **training_kwargs):\n",
    "    print(f\"Training {name}\")\n",
    "    param_count = sum(p.numel() for p in model.parameters())\n",
    "    print(f\"Model has {param_count} parameters\")\n",
    "    model.train_model(\n",
    "        *training_args,\n",
    "        **training_kwargs,\n",
    "        train_loader=train,\n",
    "        val_loader=val,\n",
    "    )\n",
    "    fig = model.plot_training(f\"{name} Training\")\n",
    "    fig.savefig(f\"images/{name}_training_new.png\")\n",
    "    print(f\"Model has {param_count} parameters\")\n",
    "    model.train_model(*training_args, **training_kwargs)\n",
    "    fig = model.plot_training(f\"{name} Training\")\n",
    "    fig.savefig(f\"images/{name}_training_new.png\")\n",
    "\n"
   ]
  },
  {
   "cell_type": "markdown",
   "metadata": {},
   "source": [
    "# Data 20"
   ]
  },
  {
   "cell_type": "code",
   "execution_count": 2,
   "metadata": {},
   "outputs": [
    {
     "name": "stdout",
     "output_type": "stream",
     "text": [
      "Train GPU Prefetch: 3200.0\n",
      "Train CPU Prefetch: 320.0\n",
      "Val GPU Prefetch: 1600.0\n",
      "Val CPU Prefetch: 320.0\n",
      "Train Loader\n",
      "Begin init data loader\n",
      "Batch Size: 1.25 MiB\n",
      "Data Loader init time: 4.384010 s\n",
      "Begin init fetcher\n",
      "Fetcher init time: 5.120454 s\n",
      "Val Loader\n",
      "Begin init data loader\n",
      "Batch Size: 1.25 MiB\n",
      "Data Loader init time: 3.353851 s\n",
      "Begin init fetcher\n",
      "Fetcher init time: 3.913209 s\n"
     ]
    }
   ],
   "source": [
    "for data in datas:\n",
    "    del data\n",
    "data_20 = get_shakespeare_loaders(\n",
    "    train_batch_size=2**13,\n",
    "    val_batch_size=2**13,\n",
    "    sequence_length=20,\n",
    ")\n",
    "datas.append(data_20)"
   ]
  },
  {
   "cell_type": "markdown",
   "metadata": {},
   "source": [
    "# LSTM 20"
   ]
  },
  {
   "cell_type": "code",
   "execution_count": 3,
   "metadata": {},
   "outputs": [
    {
     "name": "stdout",
     "output_type": "stream",
     "text": [
      "Training LSTM-20\n",
      "Model has 148801 parameters\n",
      "Training ShakespeareRNN\n",
      "\n",
      "----------------------------------------------------------------------------------------------------------------------------------------------------------------------------------------------\n"
     ]
    },
    {
     "name": "stderr",
     "output_type": "stream",
     "text": [
      "/home/jaskin/Intro_Deep_Learning/HM3/jlib/classifier.py:108: UserWarning: To copy construct from a tensor, it is recommended to use sourceTensor.clone().detach() or sourceTensor.clone().detach().requires_grad_(True), rather than torch.tensor(sourceTensor).\n",
      "  self.last_val = torch.tensor(val_loader.data_iterable.dataset.dataset.targets)\n"
     ]
    },
    {
     "name": "stdout",
     "output_type": "stream",
     "text": [
      "|       Epoch        |   Epoch Time (s)   |   Training Loss    |     Test Loss      |    Overfit (%)     |    Accuracy (%)    |   Δ Accuracy (%)   | Avg Inference Time |  GPU Memory (GiB)  |\n",
      "----------------------------------------------------------------------------------------------------------------------------------------------------------------------------------------------\n",
      "|         0          |      8.372418      |      2.843712      |      2.348663      |     -17.408565     |     33.748739      |      0.000000      |    3.035016e-07    |      2.393922      |\n",
      "----------------------------------------------------------------------------------------------------------------------------------------------------------------------------------------------\n",
      "|         1          |      5.397358      |      2.209875      |      2.092479      |     -5.312348      |     39.935896      |     18.333001      |    1.587409e-07    |      2.579468      |\n",
      "----------------------------------------------------------------------------------------------------------------------------------------------------------------------------------------------\n",
      "|         2          |      5.270451      |      2.023023      |      1.954404      |     -3.391901      |     43.293959      |      8.408634      |    1.378347e-07    |      2.766968      |\n",
      "----------------------------------------------------------------------------------------------------------------------------------------------------------------------------------------------\n",
      "|         3          |      5.538528      |      1.908607      |      1.863409      |     -2.368129      |     45.637118      |      5.412206      |    2.153127e-07    |      2.952515      |\n",
      "----------------------------------------------------------------------------------------------------------------------------------------------------------------------------------------------\n"
     ]
    },
    {
     "name": "stderr",
     "output_type": "stream",
     "text": [
      "Exception ignored in: <bound method IPythonKernel._clean_thread_parent_frames of <ipykernel.ipkernel.IPythonKernel object at 0x7ffa8dc9ad50>>\n",
      "Traceback (most recent call last):\n",
      "  File \"/home/jaskin/Intro_Deep_Learning/env/lib/python3.11/site-packages/ipykernel/ipkernel.py\", line 775, in _clean_thread_parent_frames\n",
      "    def _clean_thread_parent_frames(\n",
      "\n",
      "KeyboardInterrupt\n",
      ": Exception in thread Thread-16 (_pin_memory_loop):\n",
      "Traceback (most recent call last):\n",
      "  File \"/usr/lib/python3.11/threading.py\", line 1045, in _bootstrap_inner\n",
      "    self.run()\n",
      "  File \"/home/jaskin/Intro_Deep_Learning/env/lib/python3.11/site-packages/ipykernel/ipkernel.py\", line 766, in run_closure\n",
      "    _threading_Thread_run(self)\n",
      "  File \"/usr/lib/python3.11/threading.py\", line 982, in run\n",
      "    self._target(*self._args, **self._kwargs)\n",
      "  File \"/home/jaskin/Intro_Deep_Learning/env/lib/python3.11/site-packages/torch/utils/data/_utils/pin_memory.py\", line 59, in _pin_memory_loop\n",
      "    do_one_step()\n",
      "  File \"/home/jaskin/Intro_Deep_Learning/env/lib/python3.11/site-packages/torch/utils/data/_utils/pin_memory.py\", line 35, in do_one_step\n",
      "    r = in_queue.get(timeout=MP_STATUS_CHECK_INTERVAL)\n",
      "        ^^^^^^^^^^^^^^^^^^^^^^^^^^^^^^^^^^^^^^^^^^^^^^\n",
      "  File \"/usr/lib/python3.11/multiprocessing/queues.py\", line 122, in get\n",
      "    return _ForkingPickler.loads(res)\n",
      "           ^^^^^^^^^^^^^^^^^^^^^^^^^^\n",
      "  File \"/home/jaskin/Intro_Deep_Learning/env/lib/python3.11/site-packages/torch/multiprocessing/reductions.py\", line 541, in rebuild_storage_fd\n",
      "    fd = df.detach()\n",
      "         ^^^^^^^^^^^\n",
      "  File \"/usr/lib/python3.11/multiprocessing/resource_sharer.py\", line 58, in detach\n",
      "    return reduction.recv_handle(conn)\n",
      "           ^^^^^^^^^^^^^^^^^^^^^^^^^^^\n",
      "  File \"/usr/lib/python3.11/multiprocessing/reduction.py\", line 189, in recv_handle\n",
      "    return recvfds(s, 1)[0]\n",
      "           ^^^^^^^^^^^^^\n",
      "  File \"/usr/lib/python3.11/multiprocessing/reduction.py\", line 157, in recvfds\n",
      "    msg, ancdata, flags, addr = sock.recvmsg(1, socket.CMSG_SPACE(bytes_size))\n",
      "                                ^^^^^^^^^^^^^^^^^^^^^^^^^^^^^^^^^^^^^^^^^^^^^^\n",
      "ConnectionResetError: [Errno 104] Connection reset by peer\n"
     ]
    },
    {
     "ename": "KeyboardInterrupt",
     "evalue": "",
     "output_type": "error",
     "traceback": [
      "\u001b[0;31m---------------------------------------------------------------------------\u001b[0m",
      "\u001b[0;31mKeyboardInterrupt\u001b[0m                         Traceback (most recent call last)",
      "Cell \u001b[0;32mIn[3], line 10\u001b[0m\n\u001b[1;32m      4\u001b[0m lstm20 \u001b[38;5;241m=\u001b[39m ShakespeareRNN(\n\u001b[1;32m      5\u001b[0m     alphabet_size\u001b[38;5;241m=\u001b[39m\u001b[38;5;28mlen\u001b[39m(data_20[\u001b[38;5;124m'\u001b[39m\u001b[38;5;124mchars\u001b[39m\u001b[38;5;124m'\u001b[39m]),\n\u001b[1;32m      6\u001b[0m     hidden_size\u001b[38;5;241m=\u001b[39m\u001b[38;5;241m128\u001b[39m,\n\u001b[1;32m      7\u001b[0m     rnn\u001b[38;5;241m=\u001b[39mnn\u001b[38;5;241m.\u001b[39mLSTM,\n\u001b[1;32m      8\u001b[0m )\u001b[38;5;241m.\u001b[39mto(\u001b[38;5;124m'\u001b[39m\u001b[38;5;124mcuda\u001b[39m\u001b[38;5;124m'\u001b[39m)\n\u001b[1;32m      9\u001b[0m models\u001b[38;5;241m.\u001b[39mappend(lstm20)\n\u001b[0;32m---> 10\u001b[0m \u001b[43mtrain_and_plot\u001b[49m\u001b[43m(\u001b[49m\n\u001b[1;32m     11\u001b[0m \u001b[43m    \u001b[49m\u001b[43mdata_20\u001b[49m\u001b[43m[\u001b[49m\u001b[38;5;124;43m'\u001b[39;49m\u001b[38;5;124;43mtrain_loader\u001b[39;49m\u001b[38;5;124;43m'\u001b[39;49m\u001b[43m]\u001b[49m\u001b[43m,\u001b[49m\n\u001b[1;32m     12\u001b[0m \u001b[43m    \u001b[49m\u001b[43mdata_20\u001b[49m\u001b[43m[\u001b[49m\u001b[38;5;124;43m'\u001b[39;49m\u001b[38;5;124;43mval_loader\u001b[39;49m\u001b[38;5;124;43m'\u001b[39;49m\u001b[43m]\u001b[49m\u001b[43m,\u001b[49m\n\u001b[1;32m     13\u001b[0m \u001b[43m    \u001b[49m\u001b[43mlstm20\u001b[49m\u001b[43m,\u001b[49m\n\u001b[1;32m     14\u001b[0m \u001b[43m    \u001b[49m\u001b[38;5;124;43m\"\u001b[39;49m\u001b[38;5;124;43mLSTM-20\u001b[39;49m\u001b[38;5;124;43m\"\u001b[39;49m\u001b[43m,\u001b[49m\n\u001b[1;32m     15\u001b[0m \u001b[43m    \u001b[49m\u001b[43mepochs\u001b[49m\u001b[38;5;241;43m=\u001b[39;49m\u001b[38;5;241;43m50\u001b[39;49m\u001b[43m,\u001b[49m\n\u001b[1;32m     16\u001b[0m \u001b[43m    \u001b[49m\u001b[43moptimizer\u001b[49m\u001b[43m \u001b[49m\u001b[38;5;241;43m=\u001b[39;49m\u001b[43m \u001b[49m\u001b[43mtorch\u001b[49m\u001b[38;5;241;43m.\u001b[39;49m\u001b[43moptim\u001b[49m\u001b[38;5;241;43m.\u001b[39;49m\u001b[43mAdam\u001b[49m\u001b[43m,\u001b[49m\n\u001b[1;32m     17\u001b[0m \u001b[43m    \u001b[49m\u001b[43moptimizer_kwargs\u001b[49m\u001b[43m \u001b[49m\u001b[38;5;241;43m=\u001b[39;49m\u001b[43m \u001b[49m\u001b[43m{\u001b[49m\u001b[38;5;124;43m'\u001b[39;49m\u001b[38;5;124;43mlr\u001b[39;49m\u001b[38;5;124;43m'\u001b[39;49m\u001b[43m:\u001b[49m\u001b[43m \u001b[49m\u001b[38;5;241;43m0.001\u001b[39;49m\u001b[43m}\u001b[49m\u001b[43m,\u001b[49m\n\u001b[1;32m     18\u001b[0m \u001b[43m    \u001b[49m\u001b[43mmin_accuracy\u001b[49m\u001b[43m \u001b[49m\u001b[38;5;241;43m=\u001b[39;49m\u001b[43m \u001b[49m\u001b[38;5;241;43m0.99\u001b[39;49m\u001b[43m,\u001b[49m\n\u001b[1;32m     19\u001b[0m \u001b[43m    \u001b[49m\u001b[43mmax_negative_diff_count\u001b[49m\u001b[43m \u001b[49m\u001b[38;5;241;43m=\u001b[39;49m\u001b[43m \u001b[49m\u001b[38;5;241;43m7\u001b[39;49m\u001b[43m   \u001b[49m\n\u001b[1;32m     20\u001b[0m \u001b[43m)\u001b[49m\n",
      "Cell \u001b[0;32mIn[1], line 41\u001b[0m, in \u001b[0;36mtrain_and_plot\u001b[0;34m(train, val, model, name, *training_args, **training_kwargs)\u001b[0m\n\u001b[1;32m     39\u001b[0m param_count \u001b[38;5;241m=\u001b[39m \u001b[38;5;28msum\u001b[39m(p\u001b[38;5;241m.\u001b[39mnumel() \u001b[38;5;28;01mfor\u001b[39;00m p \u001b[38;5;129;01min\u001b[39;00m model\u001b[38;5;241m.\u001b[39mparameters())\n\u001b[1;32m     40\u001b[0m \u001b[38;5;28mprint\u001b[39m(\u001b[38;5;124mf\u001b[39m\u001b[38;5;124m\"\u001b[39m\u001b[38;5;124mModel has \u001b[39m\u001b[38;5;132;01m{\u001b[39;00mparam_count\u001b[38;5;132;01m}\u001b[39;00m\u001b[38;5;124m parameters\u001b[39m\u001b[38;5;124m\"\u001b[39m)\n\u001b[0;32m---> 41\u001b[0m \u001b[43mmodel\u001b[49m\u001b[38;5;241;43m.\u001b[39;49m\u001b[43mtrain_model\u001b[49m\u001b[43m(\u001b[49m\n\u001b[1;32m     42\u001b[0m \u001b[43m    \u001b[49m\u001b[38;5;241;43m*\u001b[39;49m\u001b[43mtraining_args\u001b[49m\u001b[43m,\u001b[49m\n\u001b[1;32m     43\u001b[0m \u001b[43m    \u001b[49m\u001b[38;5;241;43m*\u001b[39;49m\u001b[38;5;241;43m*\u001b[39;49m\u001b[43mtraining_kwargs\u001b[49m\u001b[43m,\u001b[49m\n\u001b[1;32m     44\u001b[0m \u001b[43m    \u001b[49m\u001b[43mtrain_loader\u001b[49m\u001b[38;5;241;43m=\u001b[39;49m\u001b[43mtrain\u001b[49m\u001b[43m,\u001b[49m\n\u001b[1;32m     45\u001b[0m \u001b[43m    \u001b[49m\u001b[43mval_loader\u001b[49m\u001b[38;5;241;43m=\u001b[39;49m\u001b[43mval\u001b[49m\u001b[43m,\u001b[49m\n\u001b[1;32m     46\u001b[0m \u001b[43m\u001b[49m\u001b[43m)\u001b[49m\n\u001b[1;32m     47\u001b[0m fig \u001b[38;5;241m=\u001b[39m model\u001b[38;5;241m.\u001b[39mplot_training(\u001b[38;5;124mf\u001b[39m\u001b[38;5;124m\"\u001b[39m\u001b[38;5;132;01m{\u001b[39;00mname\u001b[38;5;132;01m}\u001b[39;00m\u001b[38;5;124m Training\u001b[39m\u001b[38;5;124m\"\u001b[39m)\n\u001b[1;32m     48\u001b[0m fig\u001b[38;5;241m.\u001b[39msavefig(\u001b[38;5;124mf\u001b[39m\u001b[38;5;124m\"\u001b[39m\u001b[38;5;124mimages/\u001b[39m\u001b[38;5;132;01m{\u001b[39;00mname\u001b[38;5;132;01m}\u001b[39;00m\u001b[38;5;124m_training_new.png\u001b[39m\u001b[38;5;124m\"\u001b[39m)\n",
      "File \u001b[0;32m~/Intro_Deep_Learning/HM3/jlib/classifier.py:150\u001b[0m, in \u001b[0;36mClassifier.train_model\u001b[0;34m(self, epochs, train_loader, val_loader, loss_fn, optimizer, optimizer_args, optimizer_kwargs, print_epoch, header_epoch, sched_factor, sched_patience, min_accuracy, max_negative_diff_count)\u001b[0m\n\u001b[1;32m    148\u001b[0m total_train_samples \u001b[38;5;241m=\u001b[39m \u001b[38;5;241m0\u001b[39m\n\u001b[1;32m    149\u001b[0m \u001b[38;5;28mself\u001b[39m\u001b[38;5;241m.\u001b[39mtrain()\n\u001b[0;32m--> 150\u001b[0m \u001b[43m\u001b[49m\u001b[38;5;28;43;01mfor\u001b[39;49;00m\u001b[43m \u001b[49m\u001b[43mX_batch\u001b[49m\u001b[43m,\u001b[49m\u001b[43m \u001b[49m\u001b[43mY_batch\u001b[49m\u001b[43m \u001b[49m\u001b[38;5;129;43;01min\u001b[39;49;00m\u001b[43m \u001b[49m\u001b[43mtrain_loader\u001b[49m\u001b[43m:\u001b[49m\n\u001b[1;32m    151\u001b[0m \u001b[43m    \u001b[49m\u001b[43mbatch_size\u001b[49m\u001b[43m \u001b[49m\u001b[38;5;241;43m=\u001b[39;49m\u001b[43m \u001b[49m\u001b[43mX_batch\u001b[49m\u001b[38;5;241;43m.\u001b[39;49m\u001b[43msize\u001b[49m\u001b[43m(\u001b[49m\u001b[38;5;241;43m0\u001b[39;49m\u001b[43m)\u001b[49m\n\u001b[1;32m    152\u001b[0m \u001b[43m    \u001b[49m\u001b[43moptimizer\u001b[49m\u001b[38;5;241;43m.\u001b[39;49m\u001b[43mzero_grad\u001b[49m\u001b[43m(\u001b[49m\u001b[43mset_to_none\u001b[49m\u001b[38;5;241;43m=\u001b[39;49m\u001b[38;5;28;43;01mTrue\u001b[39;49;00m\u001b[43m)\u001b[49m\n",
      "File \u001b[0;32m~/Intro_Deep_Learning/env/lib/python3.11/site-packages/torchtnt/utils/data/data_prefetcher.py:99\u001b[0m, in \u001b[0;36mCudaDataPrefetcher.__next__\u001b[0;34m(self)\u001b[0m\n\u001b[1;32m     97\u001b[0m \u001b[38;5;28;01mdef\u001b[39;00m\u001b[38;5;250m \u001b[39m\u001b[38;5;21m__next__\u001b[39m(\u001b[38;5;28mself\u001b[39m) \u001b[38;5;241m-\u001b[39m\u001b[38;5;241m>\u001b[39m Batch:\n\u001b[1;32m     98\u001b[0m     \u001b[38;5;28;01mif\u001b[39;00m \u001b[38;5;129;01mnot\u001b[39;00m \u001b[38;5;28mself\u001b[39m\u001b[38;5;241m.\u001b[39m_prefetched:\n\u001b[0;32m---> 99\u001b[0m         \u001b[38;5;28;43mself\u001b[39;49m\u001b[38;5;241;43m.\u001b[39;49m\u001b[43m_prefetch\u001b[49m\u001b[43m(\u001b[49m\u001b[43m)\u001b[49m\n\u001b[1;32m    100\u001b[0m         \u001b[38;5;28mself\u001b[39m\u001b[38;5;241m.\u001b[39m_prefetched \u001b[38;5;241m=\u001b[39m \u001b[38;5;28;01mTrue\u001b[39;00m\n\u001b[1;32m    101\u001b[0m     \u001b[38;5;66;03m# wait for the prefetch stream to complete host to device copy\u001b[39;00m\n",
      "File \u001b[0;32m~/Intro_Deep_Learning/env/lib/python3.11/site-packages/torchtnt/utils/data/data_prefetcher.py:75\u001b[0m, in \u001b[0;36mCudaDataPrefetcher._prefetch\u001b[0;34m(self)\u001b[0m\n\u001b[1;32m     73\u001b[0m \u001b[38;5;28;01mfor\u001b[39;00m _ \u001b[38;5;129;01min\u001b[39;00m \u001b[38;5;28mrange\u001b[39m(\u001b[38;5;28mself\u001b[39m\u001b[38;5;241m.\u001b[39mnum_prefetch_batches):\n\u001b[1;32m     74\u001b[0m     \u001b[38;5;28;01mtry\u001b[39;00m:\n\u001b[0;32m---> 75\u001b[0m         \u001b[38;5;28;43mself\u001b[39;49m\u001b[38;5;241;43m.\u001b[39;49m\u001b[43m_fetch_next_batch\u001b[49m\u001b[43m(\u001b[49m\u001b[38;5;28;43mself\u001b[39;49m\u001b[38;5;241;43m.\u001b[39;49m\u001b[43mdata_iter\u001b[49m\u001b[43m)\u001b[49m\n\u001b[1;32m     76\u001b[0m     \u001b[38;5;28;01mexcept\u001b[39;00m \u001b[38;5;167;01mStopIteration\u001b[39;00m:\n\u001b[1;32m     77\u001b[0m         \u001b[38;5;28;01mreturn\u001b[39;00m\n",
      "File \u001b[0;32m~/Intro_Deep_Learning/env/lib/python3.11/site-packages/torchtnt/utils/data/data_prefetcher.py:81\u001b[0m, in \u001b[0;36mCudaDataPrefetcher._fetch_next_batch\u001b[0;34m(self, data_iter)\u001b[0m\n\u001b[1;32m     79\u001b[0m \u001b[38;5;28;01mdef\u001b[39;00m\u001b[38;5;250m \u001b[39m\u001b[38;5;21m_fetch_next_batch\u001b[39m(\u001b[38;5;28mself\u001b[39m, data_iter: Iterator[Batch]) \u001b[38;5;241m-\u001b[39m\u001b[38;5;241m>\u001b[39m \u001b[38;5;28;01mNone\u001b[39;00m:\n\u001b[1;32m     80\u001b[0m     \u001b[38;5;28;01mtry\u001b[39;00m:\n\u001b[0;32m---> 81\u001b[0m         next_batch \u001b[38;5;241m=\u001b[39m \u001b[38;5;28mnext\u001b[39m(data_iter)\n\u001b[1;32m     82\u001b[0m     \u001b[38;5;28;01mexcept\u001b[39;00m \u001b[38;5;167;01mStopIteration\u001b[39;00m:\n\u001b[1;32m     83\u001b[0m         \u001b[38;5;28;01mreturn\u001b[39;00m\n",
      "File \u001b[0;32m~/Intro_Deep_Learning/env/lib/python3.11/site-packages/torch/utils/data/dataloader.py:708\u001b[0m, in \u001b[0;36m_BaseDataLoaderIter.__next__\u001b[0;34m(self)\u001b[0m\n\u001b[1;32m    705\u001b[0m \u001b[38;5;28;01mif\u001b[39;00m \u001b[38;5;28mself\u001b[39m\u001b[38;5;241m.\u001b[39m_sampler_iter \u001b[38;5;129;01mis\u001b[39;00m \u001b[38;5;28;01mNone\u001b[39;00m:\n\u001b[1;32m    706\u001b[0m     \u001b[38;5;66;03m# TODO(https://github.com/pytorch/pytorch/issues/76750)\u001b[39;00m\n\u001b[1;32m    707\u001b[0m     \u001b[38;5;28mself\u001b[39m\u001b[38;5;241m.\u001b[39m_reset()  \u001b[38;5;66;03m# type: ignore[call-arg]\u001b[39;00m\n\u001b[0;32m--> 708\u001b[0m data \u001b[38;5;241m=\u001b[39m \u001b[38;5;28;43mself\u001b[39;49m\u001b[38;5;241;43m.\u001b[39;49m\u001b[43m_next_data\u001b[49m\u001b[43m(\u001b[49m\u001b[43m)\u001b[49m\n\u001b[1;32m    709\u001b[0m \u001b[38;5;28mself\u001b[39m\u001b[38;5;241m.\u001b[39m_num_yielded \u001b[38;5;241m+\u001b[39m\u001b[38;5;241m=\u001b[39m \u001b[38;5;241m1\u001b[39m\n\u001b[1;32m    710\u001b[0m \u001b[38;5;28;01mif\u001b[39;00m (\n\u001b[1;32m    711\u001b[0m     \u001b[38;5;28mself\u001b[39m\u001b[38;5;241m.\u001b[39m_dataset_kind \u001b[38;5;241m==\u001b[39m _DatasetKind\u001b[38;5;241m.\u001b[39mIterable\n\u001b[1;32m    712\u001b[0m     \u001b[38;5;129;01mand\u001b[39;00m \u001b[38;5;28mself\u001b[39m\u001b[38;5;241m.\u001b[39m_IterableDataset_len_called \u001b[38;5;129;01mis\u001b[39;00m \u001b[38;5;129;01mnot\u001b[39;00m \u001b[38;5;28;01mNone\u001b[39;00m\n\u001b[1;32m    713\u001b[0m     \u001b[38;5;129;01mand\u001b[39;00m \u001b[38;5;28mself\u001b[39m\u001b[38;5;241m.\u001b[39m_num_yielded \u001b[38;5;241m>\u001b[39m \u001b[38;5;28mself\u001b[39m\u001b[38;5;241m.\u001b[39m_IterableDataset_len_called\n\u001b[1;32m    714\u001b[0m ):\n",
      "File \u001b[0;32m~/Intro_Deep_Learning/env/lib/python3.11/site-packages/torch/utils/data/dataloader.py:1458\u001b[0m, in \u001b[0;36m_MultiProcessingDataLoaderIter._next_data\u001b[0;34m(self)\u001b[0m\n\u001b[1;32m   1455\u001b[0m     \u001b[38;5;28;01mreturn\u001b[39;00m \u001b[38;5;28mself\u001b[39m\u001b[38;5;241m.\u001b[39m_process_data(data)\n\u001b[1;32m   1457\u001b[0m \u001b[38;5;28;01massert\u001b[39;00m \u001b[38;5;129;01mnot\u001b[39;00m \u001b[38;5;28mself\u001b[39m\u001b[38;5;241m.\u001b[39m_shutdown \u001b[38;5;129;01mand\u001b[39;00m \u001b[38;5;28mself\u001b[39m\u001b[38;5;241m.\u001b[39m_tasks_outstanding \u001b[38;5;241m>\u001b[39m \u001b[38;5;241m0\u001b[39m\n\u001b[0;32m-> 1458\u001b[0m idx, data \u001b[38;5;241m=\u001b[39m \u001b[38;5;28;43mself\u001b[39;49m\u001b[38;5;241;43m.\u001b[39;49m\u001b[43m_get_data\u001b[49m\u001b[43m(\u001b[49m\u001b[43m)\u001b[49m\n\u001b[1;32m   1459\u001b[0m \u001b[38;5;28mself\u001b[39m\u001b[38;5;241m.\u001b[39m_tasks_outstanding \u001b[38;5;241m-\u001b[39m\u001b[38;5;241m=\u001b[39m \u001b[38;5;241m1\u001b[39m\n\u001b[1;32m   1460\u001b[0m \u001b[38;5;28;01mif\u001b[39;00m \u001b[38;5;28mself\u001b[39m\u001b[38;5;241m.\u001b[39m_dataset_kind \u001b[38;5;241m==\u001b[39m _DatasetKind\u001b[38;5;241m.\u001b[39mIterable:\n\u001b[1;32m   1461\u001b[0m     \u001b[38;5;66;03m# Check for _IterableDatasetStopIteration\u001b[39;00m\n",
      "File \u001b[0;32m~/Intro_Deep_Learning/env/lib/python3.11/site-packages/torch/utils/data/dataloader.py:1410\u001b[0m, in \u001b[0;36m_MultiProcessingDataLoaderIter._get_data\u001b[0;34m(self)\u001b[0m\n\u001b[1;32m   1408\u001b[0m \u001b[38;5;28;01melif\u001b[39;00m \u001b[38;5;28mself\u001b[39m\u001b[38;5;241m.\u001b[39m_pin_memory:\n\u001b[1;32m   1409\u001b[0m     \u001b[38;5;28;01mwhile\u001b[39;00m \u001b[38;5;28mself\u001b[39m\u001b[38;5;241m.\u001b[39m_pin_memory_thread\u001b[38;5;241m.\u001b[39mis_alive():\n\u001b[0;32m-> 1410\u001b[0m         success, data \u001b[38;5;241m=\u001b[39m \u001b[38;5;28;43mself\u001b[39;49m\u001b[38;5;241;43m.\u001b[39;49m\u001b[43m_try_get_data\u001b[49m\u001b[43m(\u001b[49m\u001b[43m)\u001b[49m\n\u001b[1;32m   1411\u001b[0m         \u001b[38;5;28;01mif\u001b[39;00m success:\n\u001b[1;32m   1412\u001b[0m             \u001b[38;5;28;01mreturn\u001b[39;00m data\n",
      "File \u001b[0;32m~/Intro_Deep_Learning/env/lib/python3.11/site-packages/torch/utils/data/dataloader.py:1251\u001b[0m, in \u001b[0;36m_MultiProcessingDataLoaderIter._try_get_data\u001b[0;34m(self, timeout)\u001b[0m\n\u001b[1;32m   1238\u001b[0m \u001b[38;5;28;01mdef\u001b[39;00m\u001b[38;5;250m \u001b[39m\u001b[38;5;21m_try_get_data\u001b[39m(\u001b[38;5;28mself\u001b[39m, timeout\u001b[38;5;241m=\u001b[39m_utils\u001b[38;5;241m.\u001b[39mMP_STATUS_CHECK_INTERVAL):\n\u001b[1;32m   1239\u001b[0m     \u001b[38;5;66;03m# Tries to fetch data from `self._data_queue` once for a given timeout.\u001b[39;00m\n\u001b[1;32m   1240\u001b[0m     \u001b[38;5;66;03m# This can also be used as inner loop of fetching without timeout, with\u001b[39;00m\n\u001b[0;32m   (...)\u001b[0m\n\u001b[1;32m   1248\u001b[0m     \u001b[38;5;66;03m# Returns a 2-tuple:\u001b[39;00m\n\u001b[1;32m   1249\u001b[0m     \u001b[38;5;66;03m#   (bool: whether successfully get data, any: data if successful else None)\u001b[39;00m\n\u001b[1;32m   1250\u001b[0m     \u001b[38;5;28;01mtry\u001b[39;00m:\n\u001b[0;32m-> 1251\u001b[0m         data \u001b[38;5;241m=\u001b[39m \u001b[38;5;28;43mself\u001b[39;49m\u001b[38;5;241;43m.\u001b[39;49m\u001b[43m_data_queue\u001b[49m\u001b[38;5;241;43m.\u001b[39;49m\u001b[43mget\u001b[49m\u001b[43m(\u001b[49m\u001b[43mtimeout\u001b[49m\u001b[38;5;241;43m=\u001b[39;49m\u001b[43mtimeout\u001b[49m\u001b[43m)\u001b[49m\n\u001b[1;32m   1252\u001b[0m         \u001b[38;5;28;01mreturn\u001b[39;00m (\u001b[38;5;28;01mTrue\u001b[39;00m, data)\n\u001b[1;32m   1253\u001b[0m     \u001b[38;5;28;01mexcept\u001b[39;00m \u001b[38;5;167;01mException\u001b[39;00m \u001b[38;5;28;01mas\u001b[39;00m e:\n\u001b[1;32m   1254\u001b[0m         \u001b[38;5;66;03m# At timeout and error, we manually check whether any worker has\u001b[39;00m\n\u001b[1;32m   1255\u001b[0m         \u001b[38;5;66;03m# failed. Note that this is the only mechanism for Windows to detect\u001b[39;00m\n\u001b[1;32m   1256\u001b[0m         \u001b[38;5;66;03m# worker failures.\u001b[39;00m\n",
      "File \u001b[0;32m/usr/lib/python3.11/queue.py:180\u001b[0m, in \u001b[0;36mQueue.get\u001b[0;34m(self, block, timeout)\u001b[0m\n\u001b[1;32m    178\u001b[0m         \u001b[38;5;28;01mif\u001b[39;00m remaining \u001b[38;5;241m<\u001b[39m\u001b[38;5;241m=\u001b[39m \u001b[38;5;241m0.0\u001b[39m:\n\u001b[1;32m    179\u001b[0m             \u001b[38;5;28;01mraise\u001b[39;00m Empty\n\u001b[0;32m--> 180\u001b[0m         \u001b[38;5;28;43mself\u001b[39;49m\u001b[38;5;241;43m.\u001b[39;49m\u001b[43mnot_empty\u001b[49m\u001b[38;5;241;43m.\u001b[39;49m\u001b[43mwait\u001b[49m\u001b[43m(\u001b[49m\u001b[43mremaining\u001b[49m\u001b[43m)\u001b[49m\n\u001b[1;32m    181\u001b[0m item \u001b[38;5;241m=\u001b[39m \u001b[38;5;28mself\u001b[39m\u001b[38;5;241m.\u001b[39m_get()\n\u001b[1;32m    182\u001b[0m \u001b[38;5;28mself\u001b[39m\u001b[38;5;241m.\u001b[39mnot_full\u001b[38;5;241m.\u001b[39mnotify()\n",
      "File \u001b[0;32m/usr/lib/python3.11/threading.py:331\u001b[0m, in \u001b[0;36mCondition.wait\u001b[0;34m(self, timeout)\u001b[0m\n\u001b[1;32m    329\u001b[0m \u001b[38;5;28;01melse\u001b[39;00m:\n\u001b[1;32m    330\u001b[0m     \u001b[38;5;28;01mif\u001b[39;00m timeout \u001b[38;5;241m>\u001b[39m \u001b[38;5;241m0\u001b[39m:\n\u001b[0;32m--> 331\u001b[0m         gotit \u001b[38;5;241m=\u001b[39m \u001b[43mwaiter\u001b[49m\u001b[38;5;241;43m.\u001b[39;49m\u001b[43macquire\u001b[49m\u001b[43m(\u001b[49m\u001b[38;5;28;43;01mTrue\u001b[39;49;00m\u001b[43m,\u001b[49m\u001b[43m \u001b[49m\u001b[43mtimeout\u001b[49m\u001b[43m)\u001b[49m\n\u001b[1;32m    332\u001b[0m     \u001b[38;5;28;01melse\u001b[39;00m:\n\u001b[1;32m    333\u001b[0m         gotit \u001b[38;5;241m=\u001b[39m waiter\u001b[38;5;241m.\u001b[39macquire(\u001b[38;5;28;01mFalse\u001b[39;00m)\n",
      "\u001b[0;31mKeyboardInterrupt\u001b[0m: "
     ]
    }
   ],
   "source": [
    "\n",
    "\n",
    "for model in models:\n",
    "    del model\n",
    "\n",
    "lstm20 = ShakespeareRNN(\n",
    "    alphabet_size=len(data_20['chars']),\n",
    "    hidden_size=128,\n",
    "    rnn=nn.LSTM,\n",
    ").to('cuda')\n",
    "models.append(lstm20)\n",
    "train_and_plot(\n",
    "    data_20['train_loader'],\n",
    "    data_20['val_loader'],\n",
    "    lstm20,\n",
    "    \"LSTM-20\",\n",
    "    epochs=50,\n",
    "    optimizer = torch.optim.Adam,\n",
    "    optimizer_kwargs = {'lr': 0.001},\n",
    "    min_accuracy = 0.99,\n",
    "    max_negative_diff_count = 7   \n",
    ")"
   ]
  },
  {
   "cell_type": "markdown",
   "metadata": {},
   "source": [
    "# LSTM-Adjusted-20"
   ]
  },
  {
   "cell_type": "code",
   "execution_count": null,
   "metadata": {},
   "outputs": [
    {
     "ename": "NameError",
     "evalue": "name 'data_20' is not defined",
     "output_type": "error",
     "traceback": [
      "\u001b[0;31m---------------------------------------------------------------------------\u001b[0m",
      "\u001b[0;31mNameError\u001b[0m                                 Traceback (most recent call last)",
      "Cell \u001b[0;32mIn[2], line 5\u001b[0m\n\u001b[1;32m      1\u001b[0m \u001b[38;5;28;01mfor\u001b[39;00m model \u001b[38;5;129;01min\u001b[39;00m models:\n\u001b[1;32m      2\u001b[0m     \u001b[38;5;28;01mdel\u001b[39;00m model\n\u001b[1;32m      4\u001b[0m lstm_adj_20 \u001b[38;5;241m=\u001b[39m ShakespeareRNN(\n\u001b[0;32m----> 5\u001b[0m     alphabet_size\u001b[38;5;241m=\u001b[39m\u001b[38;5;28mlen\u001b[39m(\u001b[43mdata_20\u001b[49m[\u001b[38;5;124m'\u001b[39m\u001b[38;5;124mchars\u001b[39m\u001b[38;5;124m'\u001b[39m]),\n\u001b[1;32m      6\u001b[0m     hidden_size\u001b[38;5;241m=\u001b[39m\u001b[38;5;241m100\u001b[39m,\n\u001b[1;32m      7\u001b[0m     rnn\u001b[38;5;241m=\u001b[39mnn\u001b[38;5;241m.\u001b[39mLSTM,\n\u001b[1;32m      8\u001b[0m     linear_network\u001b[38;5;241m=\u001b[39m[\u001b[38;5;241m128\u001b[39m,\u001b[38;5;241m64\u001b[39m],\n\u001b[1;32m      9\u001b[0m     dropout\u001b[38;5;241m=\u001b[39m\u001b[38;5;241m0.3\u001b[39m\n\u001b[1;32m     10\u001b[0m )\u001b[38;5;241m.\u001b[39mto(\u001b[38;5;124m'\u001b[39m\u001b[38;5;124mcuda\u001b[39m\u001b[38;5;124m'\u001b[39m)\n\u001b[1;32m     11\u001b[0m models\u001b[38;5;241m.\u001b[39mappend(lstm_adj_20)\n\u001b[1;32m     12\u001b[0m train_and_plot(\n\u001b[1;32m     13\u001b[0m     data_20[\u001b[38;5;124m'\u001b[39m\u001b[38;5;124mtrain_loader\u001b[39m\u001b[38;5;124m'\u001b[39m],\n\u001b[1;32m     14\u001b[0m     data_20[\u001b[38;5;124m'\u001b[39m\u001b[38;5;124mval_loader\u001b[39m\u001b[38;5;124m'\u001b[39m],\n\u001b[0;32m   (...)\u001b[0m\n\u001b[1;32m     21\u001b[0m     max_negative_diff_count \u001b[38;5;241m=\u001b[39m \u001b[38;5;241m7\u001b[39m   \n\u001b[1;32m     22\u001b[0m )\n",
      "\u001b[0;31mNameError\u001b[0m: name 'data_20' is not defined"
     ]
    }
   ],
   "source": [
    "for model in models:\n",
    "    del model\n",
    "\n",
    "lstm_adj_20 = ShakespeareRNN(\n",
    "    alphabet_size=len(data_20['chars']),\n",
    "    hidden_size=100,\n",
    "    rnn=nn.LSTM,\n",
    "    linear_network=[128,64],\n",
    "    dropout=0.3\n",
    ").to('cuda')\n",
    "models.append(lstm_adj_20)\n",
    "train_and_plot(\n",
    "    data_20['train_loader'],\n",
    "    data_20['val_loader'],\n",
    "    lstm_adj_20,\n",
    "    \"LSTM-Adjusted-20\",\n",
    "    epochs=50,\n",
    "    optimizer = torch.optim.Adam,\n",
    "    optimizer_kwargs = {'lr': 0.01},\n",
    "    min_accuracy = 0.99,\n",
    "    max_negative_diff_count = 7   \n",
    ")\n",
    "# increased learning rate due to drop out"
   ]
  },
  {
   "cell_type": "markdown",
   "metadata": {},
   "source": [
    "# GRU-20"
   ]
  },
  {
   "cell_type": "code",
   "execution_count": 3,
   "metadata": {},
   "outputs": [
    {
     "name": "stdout",
     "output_type": "stream",
     "text": [
      "Training GRU-20\n",
      "Model has 115777 parameters\n",
      "Training ShakespeareRNN\n",
      "\n",
      "----------------------------------------------------------------------------------------------------------------------------------------------------------------------------------------------\n"
     ]
    },
    {
     "name": "stderr",
     "output_type": "stream",
     "text": [
      "/home/jaskin/Intro_Deep_Learning/HM3/jlib/classifier.py:108: UserWarning: To copy construct from a tensor, it is recommended to use sourceTensor.clone().detach() or sourceTensor.clone().detach().requires_grad_(True), rather than torch.tensor(sourceTensor).\n",
      "  self.last_val = torch.tensor(val_loader.data_iterable.dataset.dataset.targets)\n"
     ]
    },
    {
     "name": "stdout",
     "output_type": "stream",
     "text": [
      "|       Epoch        |   Epoch Time (s)   |   Training Loss    |     Test Loss      |    Overfit (%)     |    Accuracy (%)    |   Δ Accuracy (%)   | Avg Inference Time |  GPU Memory (GiB)  |\n",
      "----------------------------------------------------------------------------------------------------------------------------------------------------------------------------------------------\n",
      "|         0          |      9.175223      |      2.734731      |      2.274629      |     -16.824417     |     36.099966      |      0.000000      |    1.963046e-07    |      2.266477      |\n",
      "----------------------------------------------------------------------------------------------------------------------------------------------------------------------------------------------\n",
      "|         1          |      5.298056      |      2.132231      |      2.015338      |     -5.482191      |     41.833912      |     15.883522      |    1.812731e-07    |      2.453976      |\n",
      "----------------------------------------------------------------------------------------------------------------------------------------------------------------------------------------------\n",
      "|         2          |      5.504846      |      1.943679      |      1.877730      |     -3.393000      |     45.125630      |      7.868540      |    1.893728e-07    |      2.639523      |\n",
      "----------------------------------------------------------------------------------------------------------------------------------------------------------------------------------------------\n",
      "|         3          |      5.508812      |      1.830624      |      1.786791      |     -2.394415      |     47.514961      |      5.294842      |    2.296574e-07    |      2.825070      |\n",
      "----------------------------------------------------------------------------------------------------------------------------------------------------------------------------------------------\n",
      "|         4          |      5.788373      |      1.752547      |      1.722208      |     -1.731177      |     49.114423      |      3.366228      |    1.606573e-07    |      3.010617      |\n",
      "----------------------------------------------------------------------------------------------------------------------------------------------------------------------------------------------\n",
      "|         5          |      4.934885      |      1.694902      |      1.674223      |     -1.220051      |     50.501401      |      2.823972      |    1.158137e-07    |      3.196164      |\n",
      "----------------------------------------------------------------------------------------------------------------------------------------------------------------------------------------------\n",
      "|         6          |      5.411936      |      1.650132      |      1.637778      |     -0.748675      |     51.544100      |      2.064693      |    1.517948e-07    |      3.381711      |\n",
      "----------------------------------------------------------------------------------------------------------------------------------------------------------------------------------------------\n",
      "|         7          |      5.298182      |      1.613791      |      1.606399      |     -0.458067      |     52.377003      |      1.615905      |    1.297237e-07    |      3.567257      |\n",
      "----------------------------------------------------------------------------------------------------------------------------------------------------------------------------------------------\n",
      "|         8          |      5.100241      |      1.585127      |      1.583514      |     -0.101763      |     52.935560      |      1.066416      |    1.546088e-07    |      3.752804      |\n",
      "----------------------------------------------------------------------------------------------------------------------------------------------------------------------------------------------\n",
      "|         9          |      5.120341      |      1.561971      |      1.563491      |      0.097326      |     53.501289      |      1.068713      |    1.296684e-07    |      3.938351      |\n",
      "----------------------------------------------------------------------------------------------------------------------------------------------------------------------------------------------\n",
      "|         10         |      5.157191      |      1.542632      |      1.547526      |      0.317245      |     53.747843      |      0.460837      |    2.236767e-07    |      4.123898      |\n",
      "----------------------------------------------------------------------------------------------------------------------------------------------------------------------------------------------\n",
      "|         11         |      4.948413      |      1.526600      |      1.535550      |      0.586277      |     54.015914      |      0.498757      |    1.372713e-07    |      4.309445      |\n",
      "----------------------------------------------------------------------------------------------------------------------------------------------------------------------------------------------\n",
      "|         12         |      5.130120      |      1.512441      |      1.522859      |      0.688866      |     54.378124      |      0.670562      |    1.554379e-07    |      4.494992      |\n",
      "----------------------------------------------------------------------------------------------------------------------------------------------------------------------------------------------\n",
      "|         13         |      5.362723      |      1.500497      |      1.514902      |      0.960013      |     54.464642      |      0.159104      |    1.468596e-07    |      4.680539      |\n",
      "----------------------------------------------------------------------------------------------------------------------------------------------------------------------------------------------\n",
      "|         14         |      5.261695      |      1.489698      |      1.505272      |      1.045413      |     54.795024      |      0.606599      |    1.263145e-07    |      4.866086      |\n",
      "----------------------------------------------------------------------------------------------------------------------------------------------------------------------------------------------\n",
      "|       Epoch        |   Epoch Time (s)   |   Training Loss    |     Test Loss      |    Overfit (%)     |    Accuracy (%)    |   Δ Accuracy (%)   | Avg Inference Time |  GPU Memory (GiB)  |\n",
      "----------------------------------------------------------------------------------------------------------------------------------------------------------------------------------------------\n",
      "|         15         |      5.292979      |      1.479988      |      1.497902      |      1.210410      |     54.951025      |      0.284700      |    1.540768e-07    |      5.051632      |\n",
      "----------------------------------------------------------------------------------------------------------------------------------------------------------------------------------------------\n",
      "|         16         |      5.331800      |      1.471271      |      1.491556      |      1.378768      |     55.102992      |      0.276550      |    1.659071e-07    |      5.051632      |\n",
      "----------------------------------------------------------------------------------------------------------------------------------------------------------------------------------------------\n",
      "|         17         |      5.045075      |      1.463762      |      1.486568      |      1.558015      |     55.176510      |      0.133419      |    1.508882e-07    |      5.051632      |\n",
      "----------------------------------------------------------------------------------------------------------------------------------------------------------------------------------------------\n",
      "|         18         |      5.501031      |      1.456290      |      1.479078      |      1.564756      |     55.362995      |      0.337978      |    1.547937e-07    |      5.051632      |\n",
      "----------------------------------------------------------------------------------------------------------------------------------------------------------------------------------------------\n",
      "|         19         |      5.904626      |      1.449552      |      1.474646      |      1.731126      |     55.533341      |      0.307690      |    2.033531e-07    |      5.051632      |\n",
      "----------------------------------------------------------------------------------------------------------------------------------------------------------------------------------------------\n",
      "|         20         |      5.277495      |      1.443869      |      1.470389      |      1.836745      |     55.514065      |     -0.034711      |    1.339866e-07    |      5.051632      |\n",
      "----------------------------------------------------------------------------------------------------------------------------------------------------------------------------------------------\n",
      "|         21         |      5.464462      |      1.438213      |      1.467424      |      2.031051      |     55.665583      |      0.238132      |    1.361962e-07    |      5.051632      |\n",
      "----------------------------------------------------------------------------------------------------------------------------------------------------------------------------------------------\n",
      "|         22         |      5.295367      |      1.433349      |      1.463692      |      2.116879      |     55.683963      |      0.033018      |    1.346385e-07    |      5.051632      |\n",
      "----------------------------------------------------------------------------------------------------------------------------------------------------------------------------------------------\n",
      "|         23         |      5.105231      |      1.428259      |      1.459389      |      2.179544      |     55.858344      |      0.313162      |    1.815468e-07    |      5.051632      |\n",
      "----------------------------------------------------------------------------------------------------------------------------------------------------------------------------------------------\n",
      "|         24         |      5.067187      |      1.423475      |      1.457086      |      2.361215      |     55.945310      |      0.155691      |    1.915162e-07    |      5.051632      |\n",
      "----------------------------------------------------------------------------------------------------------------------------------------------------------------------------------------------\n",
      "|         25         |      5.590687      |      1.419973      |      1.454824      |      2.454358      |     55.977138      |      0.056891      |    1.655274e-07    |      5.051632      |\n",
      "----------------------------------------------------------------------------------------------------------------------------------------------------------------------------------------------\n",
      "|         26         |      5.414899      |      1.416135      |      1.450457      |      2.423661      |     56.077552      |      0.179385      |    1.615399e-07    |      5.051632      |\n",
      "----------------------------------------------------------------------------------------------------------------------------------------------------------------------------------------------\n",
      "|         27         |      5.011095      |      1.412403      |      1.448305      |      2.541884      |     56.138070      |      0.107918      |    1.331724e-07    |      5.051632      |\n",
      "----------------------------------------------------------------------------------------------------------------------------------------------------------------------------------------------\n",
      "|         28         |      4.867522      |      1.408623      |      1.445606      |      2.625458      |     56.296761      |      0.282680      |    1.206709e-07    |      5.051632      |\n",
      "----------------------------------------------------------------------------------------------------------------------------------------------------------------------------------------------\n",
      "|         29         |      4.885876      |      1.405291      |      1.444012      |      2.755369      |     56.255519      |     -0.073258      |    1.644500e-07    |      5.051632      |\n",
      "----------------------------------------------------------------------------------------------------------------------------------------------------------------------------------------------\n",
      "|       Epoch        |   Epoch Time (s)   |   Training Loss    |     Test Loss      |    Overfit (%)     |    Accuracy (%)    |   Δ Accuracy (%)   | Avg Inference Time |  GPU Memory (GiB)  |\n",
      "----------------------------------------------------------------------------------------------------------------------------------------------------------------------------------------------\n",
      "|         30         |      5.283365      |      1.402193      |      1.441476      |      2.801570      |     56.332175      |      0.062906      |    1.508933e-07    |      5.051632      |\n",
      "----------------------------------------------------------------------------------------------------------------------------------------------------------------------------------------------\n",
      "|         31         |      5.338141      |      1.399371      |      1.440813      |      2.961483      |     56.345175      |      0.023078      |    1.197501e-07    |      5.051632      |\n",
      "----------------------------------------------------------------------------------------------------------------------------------------------------------------------------------------------\n",
      "|         32         |      5.112951      |      1.396467      |      1.438903      |      3.038767      |     56.449176      |      0.184578      |    1.161446e-07    |      5.051632      |\n",
      "----------------------------------------------------------------------------------------------------------------------------------------------------------------------------------------------\n",
      "|         33         |      5.236224      |      1.394190      |      1.436573      |      3.039947      |     56.500728      |      0.091325      |    1.221492e-07    |      5.051632      |\n",
      "----------------------------------------------------------------------------------------------------------------------------------------------------------------------------------------------\n",
      "|         34         |      5.038242      |      1.391594      |      1.434641      |      3.093403      |     56.598902      |      0.173756      |    1.222744e-07    |      5.051632      |\n",
      "----------------------------------------------------------------------------------------------------------------------------------------------------------------------------------------------\n",
      "|         35         |      5.351714      |      1.388675      |      1.433369      |      3.218453      |     56.530763      |     -0.120388      |    1.717535e-07    |      5.051632      |\n",
      "----------------------------------------------------------------------------------------------------------------------------------------------------------------------------------------------\n",
      "|         36         |      5.573376      |      1.386807      |      1.432849      |      3.320043      |     56.554522      |     -0.078411      |    2.142334e-07    |      5.051632      |\n",
      "----------------------------------------------------------------------------------------------------------------------------------------------------------------------------------------------\n",
      "|         37         |      5.635387      |      1.384455      |      1.430173      |      3.302202      |     56.635212      |      0.064154      |    1.763864e-07    |      5.051632      |\n",
      "----------------------------------------------------------------------------------------------------------------------------------------------------------------------------------------------\n",
      "|         38         |      5.294247      |      1.382287      |      1.430046      |      3.455060      |     56.706937      |      0.126643      |    1.253879e-07    |      5.051632      |\n",
      "----------------------------------------------------------------------------------------------------------------------------------------------------------------------------------------------\n",
      "|         39         |      5.343582      |      1.380626      |      1.428603      |      3.475023      |     56.689902      |     -0.030040      |    1.576464e-07    |      5.051632      |\n",
      "----------------------------------------------------------------------------------------------------------------------------------------------------------------------------------------------\n",
      "|         40         |      5.213763      |      1.378500      |      1.426812      |      3.504678      |     56.701109      |     -0.010277      |    2.600388e-07    |      5.051632      |\n",
      "----------------------------------------------------------------------------------------------------------------------------------------------------------------------------------------------\n",
      "|         41         |      5.043798      |      1.376181      |      1.426434      |      3.651594      |     56.749524      |      0.075099      |    1.144481e-07    |      5.051632      |\n",
      "----------------------------------------------------------------------------------------------------------------------------------------------------------------------------------------------\n",
      "|         42         |      5.156533      |      1.374211      |      1.425297      |      3.717524      |     56.794800      |      0.079783      |    1.228635e-07    |      5.051632      |\n",
      "----------------------------------------------------------------------------------------------------------------------------------------------------------------------------------------------\n",
      "|         43         |      5.110847      |      1.373194      |      1.425451      |      3.805447      |     56.793007      |     -0.003157      |    1.101504e-07    |      5.051632      |\n",
      "----------------------------------------------------------------------------------------------------------------------------------------------------------------------------------------------\n",
      "|         44         |      5.022365      |      1.371202      |      1.424102      |      3.857963      |     56.819007      |      0.042622      |    1.245515e-07    |      5.051632      |\n",
      "----------------------------------------------------------------------------------------------------------------------------------------------------------------------------------------------\n",
      "|       Epoch        |   Epoch Time (s)   |   Training Loss    |     Test Loss      |    Overfit (%)     |    Accuracy (%)    |   Δ Accuracy (%)   | Avg Inference Time |  GPU Memory (GiB)  |\n",
      "----------------------------------------------------------------------------------------------------------------------------------------------------------------------------------------------\n",
      "|         45         |      5.220403      |      1.369920      |      1.423461      |      3.908303      |     56.785834      |     -0.058383      |    1.414432e-07    |      5.051632      |\n",
      "----------------------------------------------------------------------------------------------------------------------------------------------------------------------------------------------\n",
      "|         46         |      5.209236      |      1.367933      |      1.423389      |      4.053989      |     56.763869      |     -0.097042      |    1.541712e-07    |      5.051632      |\n",
      "----------------------------------------------------------------------------------------------------------------------------------------------------------------------------------------------\n",
      "|         47         |      5.262309      |      1.366224      |      1.421352      |      4.035071      |     56.939594      |      0.212230      |    1.784790e-07    |      5.051632      |\n",
      "----------------------------------------------------------------------------------------------------------------------------------------------------------------------------------------------\n",
      "|         48         |      5.568135      |      1.364742      |      1.420692      |      4.099672      |     56.966043      |      0.046450      |    1.823418e-07    |      5.051632      |\n",
      "----------------------------------------------------------------------------------------------------------------------------------------------------------------------------------------------\n",
      "|         49         |      5.651876      |      1.363404      |      1.420221      |      4.167292      |     56.892077      |     -0.129843      |    1.496309e-07    |      5.051632      |\n",
      "----------------------------------------------------------------------------------------------------------------------------------------------------------------------------------------------\n",
      "\n",
      "Training Time: 213.8171899318695 seconds\n",
      "\n"
     ]
    },
    {
     "name": "stderr",
     "output_type": "stream",
     "text": [
      "/home/jaskin/Intro_Deep_Learning/HM3/jlib/classifier.py:237: UserWarning: To copy construct from a tensor, it is recommended to use sourceTensor.clone().detach() or sourceTensor.clone().detach().requires_grad_(True), rather than torch.tensor(sourceTensor).\n",
      "  self.last_pred = torch.tensor(Y_pred_eval)\n"
     ]
    },
    {
     "name": "stdout",
     "output_type": "stream",
     "text": [
      "Model has 115777 parameters\n"
     ]
    },
    {
     "ename": "TypeError",
     "evalue": "Classifier.train_model() missing 2 required positional arguments: 'train_loader' and 'val_loader'",
     "output_type": "error",
     "traceback": [
      "\u001b[0;31m---------------------------------------------------------------------------\u001b[0m",
      "\u001b[0;31mTypeError\u001b[0m                                 Traceback (most recent call last)",
      "Cell \u001b[0;32mIn[3], line 10\u001b[0m\n\u001b[1;32m      4\u001b[0m gru_20 \u001b[38;5;241m=\u001b[39m ShakespeareRNN(\n\u001b[1;32m      5\u001b[0m     alphabet_size\u001b[38;5;241m=\u001b[39m\u001b[38;5;28mlen\u001b[39m(data_20[\u001b[38;5;124m'\u001b[39m\u001b[38;5;124mchars\u001b[39m\u001b[38;5;124m'\u001b[39m]),\n\u001b[1;32m      6\u001b[0m     hidden_size\u001b[38;5;241m=\u001b[39m\u001b[38;5;241m128\u001b[39m,\n\u001b[1;32m      7\u001b[0m     rnn\u001b[38;5;241m=\u001b[39mnn\u001b[38;5;241m.\u001b[39mGRU,\n\u001b[1;32m      8\u001b[0m )\u001b[38;5;241m.\u001b[39mto(\u001b[38;5;124m'\u001b[39m\u001b[38;5;124mcuda\u001b[39m\u001b[38;5;124m'\u001b[39m)\n\u001b[1;32m      9\u001b[0m models\u001b[38;5;241m.\u001b[39mappend(gru_20)\n\u001b[0;32m---> 10\u001b[0m \u001b[43mtrain_and_plot\u001b[49m\u001b[43m(\u001b[49m\n\u001b[1;32m     11\u001b[0m \u001b[43m    \u001b[49m\u001b[43mdata_20\u001b[49m\u001b[43m[\u001b[49m\u001b[38;5;124;43m'\u001b[39;49m\u001b[38;5;124;43mtrain_loader\u001b[39;49m\u001b[38;5;124;43m'\u001b[39;49m\u001b[43m]\u001b[49m\u001b[43m,\u001b[49m\n\u001b[1;32m     12\u001b[0m \u001b[43m    \u001b[49m\u001b[43mdata_20\u001b[49m\u001b[43m[\u001b[49m\u001b[38;5;124;43m'\u001b[39;49m\u001b[38;5;124;43mval_loader\u001b[39;49m\u001b[38;5;124;43m'\u001b[39;49m\u001b[43m]\u001b[49m\u001b[43m,\u001b[49m\n\u001b[1;32m     13\u001b[0m \u001b[43m    \u001b[49m\u001b[43mgru_20\u001b[49m\u001b[43m,\u001b[49m\n\u001b[1;32m     14\u001b[0m \u001b[43m    \u001b[49m\u001b[38;5;124;43m\"\u001b[39;49m\u001b[38;5;124;43mGRU-20\u001b[39;49m\u001b[38;5;124;43m\"\u001b[39;49m\u001b[43m,\u001b[49m\n\u001b[1;32m     15\u001b[0m \u001b[43m    \u001b[49m\u001b[43mepochs\u001b[49m\u001b[38;5;241;43m=\u001b[39;49m\u001b[38;5;241;43m50\u001b[39;49m\u001b[43m,\u001b[49m\n\u001b[1;32m     16\u001b[0m \u001b[43m    \u001b[49m\u001b[43moptimizer\u001b[49m\u001b[43m \u001b[49m\u001b[38;5;241;43m=\u001b[39;49m\u001b[43m \u001b[49m\u001b[43mtorch\u001b[49m\u001b[38;5;241;43m.\u001b[39;49m\u001b[43moptim\u001b[49m\u001b[38;5;241;43m.\u001b[39;49m\u001b[43mAdam\u001b[49m\u001b[43m,\u001b[49m\n\u001b[1;32m     17\u001b[0m \u001b[43m    \u001b[49m\u001b[43moptimizer_kwargs\u001b[49m\u001b[43m \u001b[49m\u001b[38;5;241;43m=\u001b[39;49m\u001b[43m \u001b[49m\u001b[43m{\u001b[49m\u001b[38;5;124;43m'\u001b[39;49m\u001b[38;5;124;43mlr\u001b[39;49m\u001b[38;5;124;43m'\u001b[39;49m\u001b[43m:\u001b[49m\u001b[43m \u001b[49m\u001b[38;5;241;43m0.001\u001b[39;49m\u001b[43m}\u001b[49m\u001b[43m,\u001b[49m\n\u001b[1;32m     18\u001b[0m \u001b[43m    \u001b[49m\u001b[43mmin_accuracy\u001b[49m\u001b[43m \u001b[49m\u001b[38;5;241;43m=\u001b[39;49m\u001b[43m \u001b[49m\u001b[38;5;241;43m0.99\u001b[39;49m\u001b[43m,\u001b[49m\n\u001b[1;32m     19\u001b[0m \u001b[43m    \u001b[49m\u001b[43mmax_negative_diff_count\u001b[49m\u001b[43m \u001b[49m\u001b[38;5;241;43m=\u001b[39;49m\u001b[43m \u001b[49m\u001b[38;5;241;43m7\u001b[39;49m\u001b[43m   \u001b[49m\n\u001b[1;32m     20\u001b[0m \u001b[43m)\u001b[49m\n",
      "Cell \u001b[0;32mIn[1], line 50\u001b[0m, in \u001b[0;36mtrain_and_plot\u001b[0;34m(train, val, model, name, *training_args, **training_kwargs)\u001b[0m\n\u001b[1;32m     48\u001b[0m fig\u001b[38;5;241m.\u001b[39msavefig(\u001b[38;5;124mf\u001b[39m\u001b[38;5;124m\"\u001b[39m\u001b[38;5;124mimages/\u001b[39m\u001b[38;5;132;01m{\u001b[39;00mname\u001b[38;5;132;01m}\u001b[39;00m\u001b[38;5;124m_training_new.png\u001b[39m\u001b[38;5;124m\"\u001b[39m)\n\u001b[1;32m     49\u001b[0m \u001b[38;5;28mprint\u001b[39m(\u001b[38;5;124mf\u001b[39m\u001b[38;5;124m\"\u001b[39m\u001b[38;5;124mModel has \u001b[39m\u001b[38;5;132;01m{\u001b[39;00mparam_count\u001b[38;5;132;01m}\u001b[39;00m\u001b[38;5;124m parameters\u001b[39m\u001b[38;5;124m\"\u001b[39m)\n\u001b[0;32m---> 50\u001b[0m \u001b[43mmodel\u001b[49m\u001b[38;5;241;43m.\u001b[39;49m\u001b[43mtrain_model\u001b[49m\u001b[43m(\u001b[49m\u001b[38;5;241;43m*\u001b[39;49m\u001b[43mtraining_args\u001b[49m\u001b[43m,\u001b[49m\u001b[43m \u001b[49m\u001b[38;5;241;43m*\u001b[39;49m\u001b[38;5;241;43m*\u001b[39;49m\u001b[43mtraining_kwargs\u001b[49m\u001b[43m)\u001b[49m\n\u001b[1;32m     51\u001b[0m fig \u001b[38;5;241m=\u001b[39m model\u001b[38;5;241m.\u001b[39mplot_training(\u001b[38;5;124mf\u001b[39m\u001b[38;5;124m\"\u001b[39m\u001b[38;5;132;01m{\u001b[39;00mname\u001b[38;5;132;01m}\u001b[39;00m\u001b[38;5;124m Training\u001b[39m\u001b[38;5;124m\"\u001b[39m)\n\u001b[1;32m     52\u001b[0m fig\u001b[38;5;241m.\u001b[39msavefig(\u001b[38;5;124mf\u001b[39m\u001b[38;5;124m\"\u001b[39m\u001b[38;5;124mimages/\u001b[39m\u001b[38;5;132;01m{\u001b[39;00mname\u001b[38;5;132;01m}\u001b[39;00m\u001b[38;5;124m_training_new.png\u001b[39m\u001b[38;5;124m\"\u001b[39m)\n",
      "\u001b[0;31mTypeError\u001b[0m: Classifier.train_model() missing 2 required positional arguments: 'train_loader' and 'val_loader'"
     ]
    },
    {
     "data": {
      "image/png": "[encoded data removed]",
      "text/plain": [
       "<Figure size 640x480 with 2 Axes>"
      ]
     },
     "metadata": {},
     "output_type": "display_data"
    }
   ],
   "source": [
    "for model in models:\n",
    "    del model\n",
    "\n",
    "gru_20 = ShakespeareRNN(\n",
    "    alphabet_size=len(data_20['chars']),\n",
    "    hidden_size=128,\n",
    "    rnn=nn.GRU,\n",
    ").to('cuda')\n",
    "models.append(gru_20)\n",
    "train_and_plot(\n",
    "    data_20['train_loader'],\n",
    "    data_20['val_loader'],\n",
    "    gru_20,\n",
    "    \"GRU-20\",\n",
    "    epochs=50,\n",
    "    optimizer = torch.optim.Adam,\n",
    "    optimizer_kwargs = {'lr': 0.001},\n",
    "    min_accuracy = 0.99,\n",
    "    max_negative_diff_count = 7   \n",
    ")"
   ]
  },
  {
   "cell_type": "markdown",
   "metadata": {},
   "source": [
    "# GRU-Adjusted-20"
   ]
  },
  {
   "cell_type": "code",
   "execution_count": null,
   "metadata": {},
   "outputs": [
    {
     "name": "stdout",
     "output_type": "stream",
     "text": [
      "Training GRU-Adjusted-20\n",
      "Model has 105437 parameters\n",
      "Training ShakespeareRNN\n",
      "\n",
      "----------------------------------------------------------------------------------------------------------------------------------------------------------------------------------------------\n"
     ]
    },
    {
     "name": "stderr",
     "output_type": "stream",
     "text": [
      "/home/jaskin/Intro_Deep_Learning/HM3/jlib/classifier.py:108: UserWarning: To copy construct from a tensor, it is recommended to use sourceTensor.clone().detach() or sourceTensor.clone().detach().requires_grad_(True), rather than torch.tensor(sourceTensor).\n",
      "  self.last_val = torch.tensor(val_loader.data_iterable.dataset.dataset.targets)\n"
     ]
    },
    {
     "name": "stdout",
     "output_type": "stream",
     "text": [
      "|       Epoch        |   Epoch Time (s)   |   Training Loss    |     Test Loss      |    Overfit (%)     |    Accuracy (%)    |   Δ Accuracy (%)   | Avg Inference Time |  GPU Memory (GiB)  |\n",
      "----------------------------------------------------------------------------------------------------------------------------------------------------------------------------------------------\n",
      "|         0          |     13.588706      |      2.130644      |      1.759626      |     -17.413434     |     47.609997      |      0.000000      |    5.656661e-07    |      1.828830      |\n",
      "----------------------------------------------------------------------------------------------------------------------------------------------------------------------------------------------\n",
      "|         1          |      8.866404      |      1.777913      |      1.630417      |     -8.296053      |     51.227166      |      7.597499      |    5.001137e-07    |      2.016329      |\n",
      "----------------------------------------------------------------------------------------------------------------------------------------------------------------------------------------------\n",
      "|         2          |      8.139087      |      1.696654      |      1.589115      |     -6.338299      |     52.025104      |      1.557646      |    5.182481e-07    |      2.201876      |\n",
      "----------------------------------------------------------------------------------------------------------------------------------------------------------------------------------------------\n",
      "|         3          |      8.163038      |      1.657089      |      1.561689      |     -5.757072      |     52.778214      |      1.447590      |    4.767836e-07    |      2.387423      |\n",
      "----------------------------------------------------------------------------------------------------------------------------------------------------------------------------------------------\n",
      "|         4          |      8.641583      |      1.632394      |      1.542007      |     -5.537068      |     53.372184      |      1.125409      |    4.755970e-07    |      2.572970      |\n",
      "----------------------------------------------------------------------------------------------------------------------------------------------------------------------------------------------\n",
      "|         5          |      8.039643      |      1.614648      |      1.530321      |     -5.222604      |     53.553738      |      0.340165      |    4.408446e-07    |      2.758517      |\n",
      "----------------------------------------------------------------------------------------------------------------------------------------------------------------------------------------------\n",
      "|         6          |      8.772147      |      1.603294      |      1.518608      |     -5.282026      |     53.975120      |      0.786841      |    5.694146e-07    |      2.944064      |\n",
      "----------------------------------------------------------------------------------------------------------------------------------------------------------------------------------------------\n"
     ]
    }
   ],
   "source": [
    "for model in models:\n",
    "    del model\n",
    "\n",
    "gru_adj_20 = ShakespeareRNN(\n",
    "    alphabet_size=len(data_20['chars']),\n",
    "    hidden_size=100,\n",
    "    rnn=nn.GRU,\n",
    "    linear_network=[128,128],\n",
    "    dropout=0.3\n",
    ").to('cuda')\n",
    "models.append(gru_adj_20)\n",
    "train_and_plot(\n",
    "    data_20['train_loader'],\n",
    "    data_20['val_loader'],\n",
    "    gru_adj_20,\n",
    "    \"GRU-Adjusted-20\",\n",
    "    epochs=50,\n",
    "    optimizer = torch.optim.Adam,\n",
    "    optimizer_kwargs = {'lr': 0.01},\n",
    "    min_accuracy = 0.99,\n",
    "    max_negative_diff_count = 7   \n",
    ")"
   ]
  },
  {
   "cell_type": "markdown",
   "metadata": {},
   "source": [
    "# Data-30"
   ]
  },
  {
   "cell_type": "code",
   "execution_count": null,
   "metadata": {},
   "outputs": [],
   "source": [
    "for data in datas:\n",
    "    del data\n",
    "\n",
    "data_30 = get_shakespeare_loaders(\n",
    "    train_batch_size=2**13,\n",
    "    val_batch_size=2**15,\n",
    "    sequence_length=20,\n",
    ")\n",
    "datas.append(data_30)"
   ]
  },
  {
   "cell_type": "markdown",
   "metadata": {},
   "source": [
    "# LSTM-30"
   ]
  },
  {
   "cell_type": "code",
   "execution_count": null,
   "metadata": {},
   "outputs": [],
   "source": [
    "for model in models:\n",
    "    del model\n",
    "\n",
    "\n",
    "lstm30 = ShakespeareRNN(\n",
    "    alphabet_size=len(data_30['chars']),\n",
    "    hidden_size=128,\n",
    "    rnn=nn.LSTM,\n",
    ").to('cuda')\n",
    "models.append(lstm30)\n",
    "train_and_plot(\n",
    "    data_30['train_loader'],\n",
    "    data_30['val_loader'],\n",
    "    lstm30,\n",
    "    \"LSTM-20\",\n",
    "    epochs=50,\n",
    "    optimizer = torch.optim.Adam,\n",
    "    optimizer_kwargs = {'lr': 0.001},\n",
    "    min_accuracy = 0.99,\n",
    "    max_negative_diff_count = 7   \n",
    ")"
   ]
  },
  {
   "cell_type": "markdown",
   "metadata": {},
   "source": [
    "# LSTM-Adjusted-30"
   ]
  },
  {
   "cell_type": "code",
   "execution_count": null,
   "metadata": {},
   "outputs": [],
   "source": [
    "for model in models:\n",
    "    del model\n",
    "lstmadj_30 = ShakespeareRNN(\n",
    "    alphabet_size=len(data_30['chars']),\n",
    "    hidden_size=100,\n",
    "    rnn=nn.LSTM,\n",
    "    linear_network=[128,64],\n",
    "    dropout=0.3\n",
    ").to('cuda')\n",
    "models.append(lstmadj_30)\n",
    "train_and_plot(\n",
    "    data_30['train_loader'],\n",
    "    data_30['val_loader'],\n",
    "    lstmadj_30,\n",
    "    \"LSTM-20\",\n",
    "    epochs=50,\n",
    "    optimizer = torch.optim.Adam,\n",
    "    optimizer_kwargs = {'lr': 0.001},\n",
    "    min_accuracy = 0.99,\n",
    "    max_negative_diff_count = 7   \n",
    ")"
   ]
  },
  {
   "cell_type": "markdown",
   "metadata": {},
   "source": [
    "# GRU-30"
   ]
  },
  {
   "cell_type": "code",
   "execution_count": null,
   "metadata": {},
   "outputs": [],
   "source": [
    "gru_30 = ShakespeareRNN(\n",
    "    alphabet_size=len(data_30['chars']),\n",
    "    hidden_size=128,\n",
    "    rnn=nn.GRU,\n",
    ").to('cuda')\n",
    "models.append(gru_30)\n",
    "train_and_plot(\n",
    "    data_30['train_loader'],\n",
    "    data_30['val_loader'],\n",
    "    gru_30,\n",
    "    \"GRU-20\",\n",
    "    epochs=50,\n",
    "    optimizer = torch.optim.Adam,\n",
    "    optimizer_kwargs = {'lr': 0.001},\n",
    "    min_accuracy = 0.99,\n",
    "    max_negative_diff_count = 7   \n",
    ")"
   ]
  },
  {
   "cell_type": "markdown",
   "metadata": {},
   "source": [
    "# GRU-Adjusted-30"
   ]
  },
  {
   "cell_type": "code",
   "execution_count": null,
   "metadata": {},
   "outputs": [],
   "source": [
    "for model in models:\n",
    "    del model\n",
    "gru_adj_30 = ShakespeareRNN(\n",
    "    alphabet_size=len(data_30['chars']),\n",
    "    hidden_size=100,\n",
    "    rnn=nn.GRU,\n",
    "    linear_network=[128,64],\n",
    "    dropout=0.3\n",
    ")\n",
    "models.append(gru_adj_30)\n",
    "train_and_plot(\n",
    "    data_30['train_loader'],\n",
    "    data_30['val_loader'],\n",
    "    gru_adj_30,\n",
    "    \"GRU-20\",\n",
    "    epochs=50,\n",
    "    optimizer = torch.optim.Adam,\n",
    "    optimizer_kwargs = {'lr': 0.001},\n",
    "    min_accuracy = 0.99,\n",
    "    max_negative_diff_count = 7   \n",
    ")"
   ]
  },
  {
   "cell_type": "markdown",
   "metadata": {},
   "source": [
    "# LSTM-50"
   ]
  },
  {
   "cell_type": "code",
   "execution_count": null,
   "metadata": {},
   "outputs": [],
   "source": [
    "for data in datas:\n",
    "    del data\n",
    "\n",
    "data_50 = get_shakespeare_loaders(\n",
    "    train_batch_size=2**13,\n",
    "    val_batch_size=2**15,\n",
    "    sequence_length=20,\n",
    ")\n",
    "datas.append(data_50)"
   ]
  },
  {
   "cell_type": "code",
   "execution_count": null,
   "metadata": {},
   "outputs": [],
   "source": [
    "for model in models:\n",
    "    del model\n",
    "    \n",
    "lstm50 = ShakespeareRNN(\n",
    "    alphabet_size=len(data_50['chars']),\n",
    "    hidden_size=128,\n",
    "    rnn=nn.LSTM,\n",
    ").to('cuda')\n",
    "models.append(lstm50)\n",
    "train_and_plot(\n",
    "    data_50['train_loader'],\n",
    "    data_50['val_loader'],\n",
    "    lstm50,\n",
    "    \"LSTM-20\",\n",
    "    epochs=50,\n",
    "    optimizer = torch.optim.Adam,\n",
    "    optimizer_kwargs = {'lr': 0.001},\n",
    "    min_accuracy = 0.99,\n",
    "    max_negative_diff_count = 7   \n",
    ")"
   ]
  },
  {
   "cell_type": "markdown",
   "metadata": {},
   "source": [
    "# LSTM-Adjusted-50"
   ]
  },
  {
   "cell_type": "code",
   "execution_count": null,
   "metadata": {},
   "outputs": [],
   "source": [
    "lstmadj_50 = ShakespeareRNN(\n",
    "    alphabet_size=len(data_50['chars']),\n",
    "    hidden_size=100,\n",
    "    rnn=nn.LSTM,\n",
    "    linear_network=[128,64],\n",
    "    dropout=0.3\n",
    ").to('cuda')\n",
    "models.append(lstmadj_50)\n",
    "\n",
    "train_and_plot(\n",
    "    data_50['train_loader'],\n",
    "    data_50['val_loader'],\n",
    "    lstmadj_50,\n",
    "    \"LSTM-20\",\n",
    "    epochs=50,\n",
    "    optimizer = torch.optim.Adam,\n",
    "    optimizer_kwargs = {'lr': 0.001},\n",
    "    min_accuracy = 0.99,\n",
    "    max_negative_diff_count = 7   \n",
    ")\n"
   ]
  },
  {
   "cell_type": "markdown",
   "metadata": {},
   "source": [
    "# GRU-50"
   ]
  },
  {
   "cell_type": "code",
   "execution_count": null,
   "metadata": {},
   "outputs": [],
   "source": [
    "for model in models:\n",
    "    del model\n",
    "gru_50 = ShakespeareRNN(\n",
    "    alphabet_size=len(data_50['chars']),\n",
    "    hidden_size=128,\n",
    "    rnn=nn.GRU,\n",
    ").to('cuda')\n",
    "\n",
    "models.append(gru_50)\n",
    "\n",
    "train_and_plot(\n",
    "    data_50['train_loader'],\n",
    "    data_50['val_loader'],\n",
    "    gru_50,\n",
    "    \"GRU-20\",\n",
    "    epochs=50,\n",
    "    optimizer = torch.optim.Adam,\n",
    "    optimizer_kwargs = {'lr': 0.001},\n",
    "    min_accuracy = 0.99,\n",
    "    max_negative_diff_count = 7   \n",
    ")"
   ]
  },
  {
   "cell_type": "markdown",
   "metadata": {},
   "source": [
    "# GRU-Adjusted-50"
   ]
  },
  {
   "cell_type": "code",
   "execution_count": null,
   "metadata": {},
   "outputs": [],
   "source": [
    "gru_adj_50 = ShakespeareRNN(\n",
    "    alphabet_size=len(data_50['chars']),\n",
    "    hidden_size=100,\n",
    "    rnn=nn.GRU,\n",
    "    linear_network=[128,64],\n",
    "    dropout=0.3\n",
    ").to('cuda')\n",
    "models.append(gru_adj_50)\n",
    "train_and_plot(\n",
    "    data_50['train_loader'],\n",
    "    data_50['val_loader'],\n",
    "    gru_adj_50,\n",
    "    \"GRU-20\",\n",
    "    epochs=50,\n",
    "    optimizer = torch.optim.Adam,\n",
    "    optimizer_kwargs = {'lr': 0.001},\n",
    "    min_accuracy = 0.99,\n",
    "    max_negative_diff_count = 7   \n",
    ")"
   ]
  }
 ],
 "metadata": {
  "kernelspec": {
   "display_name": "env",
   "language": "python",
   "name": "python3"
  },
  "language_info": {
   "codemirror_mode": {
    "name": "ipython",
    "version": 3
   },
   "file_extension": ".py",
   "mimetype": "text/x-python",
   "name": "python",
   "nbconvert_exporter": "python",
   "pygments_lexer": "ipython3",
   "version": "3.11.11"
  }
 },
 "nbformat": 4,
 "nbformat_minor": 2
}
