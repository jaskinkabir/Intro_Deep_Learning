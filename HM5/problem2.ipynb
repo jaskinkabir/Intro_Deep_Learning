{
 "cells": [
  {
   "cell_type": "markdown",
   "metadata": {},
   "source": [
    "# Initialization"
   ]
  },
  {
   "cell_type": "code",
   "execution_count": null,
   "metadata": {},
   "outputs": [],
   "source": [
    "%load_ext autoreload\n",
    "%autoreload 2\n",
    "\n",
    "from jlib.transformer_char_predictor import TransformerCharPredictor\n",
    "import jlib.data_utils as data_utils\n",
    "import torch\n",
    "import torch.nn as nn\n",
    "import numpy as np\n",
    "from torchprofile import profile_macs\n",
    "text = data_utils.get_text('data/shakespeare.txt', redownload=False)\n",
    "print(text[:50])\n"
   ]
  },
  {
   "cell_type": "markdown",
   "metadata": {},
   "source": [
    "# SeqLen 10"
   ]
  },
  {
   "cell_type": "code",
   "execution_count": null,
   "metadata": {},
   "outputs": [
    {
     "ename": "",
     "evalue": "",
     "output_type": "error",
     "traceback": [
      "\u001b[1;31mThe Kernel crashed while executing code in the current cell or a previous cell. \n",
      "\u001b[1;31mPlease review the code in the cell(s) to identify a possible cause of the failure. \n",
      "\u001b[1;31mClick <a href='https://aka.ms/vscodeJupyterKernelCrash'>here</a> for more info. \n",
      "\u001b[1;31mView Jupyter <a href='command:jupyter.viewOutput'>log</a> for further details."
     ]
    }
   ],
   "source": [
    "seqlen = 10\n",
    "def train_and_plot(seqlen: int):\n",
    "    data = data_utils.gen_datasets(text, seqlen)\n",
    "    train_data = data['train_dataset']\n",
    "    val_data = data['val_dataset']\n",
    "    alphabet: data_utils.Alphabet = data['alphabet']\n",
    "\n",
    "    train_fetcher = data_utils.gen_data_loader(\n",
    "        train_data,\n",
    "        batch_size=len(train_data)//128,\n",
    "        workers = 6,\n",
    "        cpu_prefetch= 10,\n",
    "        gpu_prefetch=10\n",
    "    )\n",
    "\n",
    "    val_fetcher = data_utils.gen_data_loader(\n",
    "        val_data,\n",
    "        batch_size=len(val_data)//32,\n",
    "        workers = 6,\n",
    "        cpu_prefetch= 10,\n",
    "        gpu_prefetch=10\n",
    "    )\n",
    "\n",
    "    # model\n",
    "\n",
    "    model = TransformerCharPredictor(\n",
    "        alphabet_size = len(alphabet),\n",
    "        max_len = seqlen,\n",
    "        hidden_dim = 128,\n",
    "        inner_dim = 2048,\n",
    "        num_attn_heads = 2,\n",
    "        num_attn_layers=3,\n",
    "        cls_head_dims=[],\n",
    "        dropout = 0.1\n",
    "    )\n",
    "\n",
    "    param_count = sum(p.numel() for p in model.parameters())\n",
    "    print(f\"Model parameter count: {param_count:,}\")\n",
    "    \n",
    "    \n",
    "\n",
    "    # test_input = next(iter(train_fetcher))[0]\n",
    "\n",
    "    # print(f\"Model MACs: {profile_macs(model, test_input):,}\")\n",
    "    \n",
    "# Model parameter count: 1,790,380\n",
    "# Model MACs: 568,279,052\n",
    "\n",
    "\n",
    "\n",
    "    model.train_model(\n",
    "        epochs=100,\n",
    "        train_fetcher=train_fetcher,\n",
    "        val_fetcher=val_fetcher,\n",
    "        optimizer = torch.optim.Adam,\n",
    "        optimizer_kwargs={\n",
    "            'lr': 3e-3,\n",
    "            'betas': (0.9, 0.98),\n",
    "            'eps': 1e-9,\n",
    "            'weight_decay': 1e-5\n",
    "        },\n",
    "        min_accuracy=1,\n",
    "        max_negative_diff_count=10,\n",
    "        save_path=f'models/p2-{seqlen}.pth',\n",
    "        stop_on_plateau=True,\n",
    "    )\n",
    "\n",
    "    fig = model.plot_training(f'Shakespeare Corpus, Sequence Length {seqlen}')\n",
    "    fig.savefig(f'latex/images/p2-{seqlen}.png')\n",
    "    \n",
    "    del train_fetcher, val_fetcher, train_data, val_data, data, model, alphabet\n",
    "    \n",
    "\n",
    "\n",
    "\n"
   ]
  },
  {
   "cell_type": "code",
   "execution_count": null,
   "metadata": {},
   "outputs": [
    {
     "name": "stdout",
     "output_type": "stream",
     "text": [
      "Begin init data loader\n",
      "Batch Size: 1.063690185546875 MiB\n",
      "Data Loader init time: 6.452997 s\n",
      "Begin init fetcher\n",
      "Fetcher init time: 6.623583 s\n",
      "Begin init data loader\n",
      "Batch Size: 2.12738037109375 MiB\n",
      "Data Loader init time: 8.337456 s\n",
      "Begin init fetcher\n",
      "Fetcher init time: 8.595949 s\n",
      "Model parameter count: 939\n",
      "Training TransformerCharPredictor\n",
      "\n",
      "----------------------------------------------------------------------------------------------------------------------------------------------------\n",
      "Begin Training\n",
      "|       Epoch        |   Epoch Time (s)   |   Training Loss    |  Validation Loss   |Validation Accuracy |   Δ Accuracy (%)   |    Memory Usage    |\n",
      "----------------------------------------------------------------------------------------------------------------------------------------------------\n",
      "|         0          |     11.226316      |      4.001647      |      3.759078      |     15.314308      |      0.000000      |      0.799158      |\n",
      "----------------------------------------------------------------------------------------------------------------------------------------------------\n",
      "|         1          |      8.412558      |      3.772161      |      3.725589      |     16.351932      |      6.775523      |      0.881189      |\n",
      "----------------------------------------------------------------------------------------------------------------------------------------------------\n",
      "|         2          |      7.765040      |      3.625408      |      3.420316      |     17.037033      |      4.189721      |      0.963221      |\n",
      "----------------------------------------------------------------------------------------------------------------------------------------------------\n",
      "|         3          |      8.414301      |      3.457463      |      3.298789      |     17.746070      |      4.161743      |      1.045252      |\n",
      "----------------------------------------------------------------------------------------------------------------------------------------------------\n"
     ]
    }
   ],
   "source": [
    "train_and_plot(10)\n",
    "\n"
   ]
  },
  {
   "cell_type": "code",
   "execution_count": null,
   "metadata": {},
   "outputs": [],
   "source": [
    "train_and_plot(20)\n"
   ]
  },
  {
   "cell_type": "code",
   "execution_count": null,
   "metadata": {},
   "outputs": [],
   "source": [
    "train_and_plot(30)"
   ]
  }
 ],
 "metadata": {
  "kernelspec": {
   "display_name": "env",
   "language": "python",
   "name": "python3"
  },
  "language_info": {
   "codemirror_mode": {
    "name": "ipython",
    "version": 3
   },
   "file_extension": ".py",
   "mimetype": "text/x-python",
   "name": "python",
   "nbconvert_exporter": "python",
   "pygments_lexer": "ipython3",
   "version": "3.11.11"
  }
 },
 "nbformat": 4,
 "nbformat_minor": 2
}
