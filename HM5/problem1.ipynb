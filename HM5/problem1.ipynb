{
 "cells": [
  {
   "cell_type": "markdown",
   "metadata": {},
   "source": [
    "# Initialization"
   ]
  },
  {
   "cell_type": "code",
   "execution_count": 1,
   "metadata": {},
   "outputs": [
    {
     "name": "stderr",
     "output_type": "stream",
     "text": [
      "/home/jaskin/Intro_Deep_Learning/env/lib/python3.11/site-packages/tqdm/auto.py:21: TqdmWarning: IProgress not found. Please update jupyter and ipywidgets. See https://ipywidgets.readthedocs.io/en/stable/user_install.html\n",
      "  from .autonotebook import tqdm as notebook_tqdm\n"
     ]
    }
   ],
   "source": [
    "%load_ext autoreload\n",
    "%autoreload 2\n",
    "\n",
    "from jlib.transformer_char_predictor import TransformerCharPredictor\n",
    "import jlib.data_utils as data_utils\n",
    "import torch\n",
    "import torch.nn as nn\n",
    "import numpy as np\n",
    "from torchprofile import profile_macs\n",
    "text = \"\"\n",
    "with open('data/sequence.txt', 'r') as f:\n",
    "    text = f.read()\n"
   ]
  },
  {
   "cell_type": "markdown",
   "metadata": {},
   "source": [
    "# SeqLen 10"
   ]
  },
  {
   "cell_type": "code",
   "execution_count": null,
   "metadata": {},
   "outputs": [],
   "source": [
    "seqlen = 10\n",
    "def train_and_plot(seqlen: int):\n",
    "    data = data_utils.gen_datasets(text, seqlen)\n",
    "    train_data = data['train_dataset']\n",
    "    val_data = data['val_dataset']\n",
    "    alphabet: data_utils.Alphabet = data['alphabet']\n",
    "\n",
    "    train_fetcher = data_utils.gen_data_loader(\n",
    "        train_data,\n",
    "        batch_size=32,\n",
    "        workers = 6,\n",
    "        cpu_prefetch= 20,\n",
    "        gpu_prefetch=20\n",
    "    )\n",
    "\n",
    "    val_fetcher = data_utils.gen_data_loader(\n",
    "        val_data,\n",
    "        batch_size=len(val_data),\n",
    "        workers = 6,\n",
    "        cpu_prefetch= 10,\n",
    "        gpu_prefetch=10\n",
    "    )\n",
    "\n",
    "    # model\n",
    "\n",
    "    model = TransformerCharPredictor(\n",
    "        alphabet_size = len(alphabet),\n",
    "        max_len = seqlen,\n",
    "        hidden_dim = 128,\n",
    "        inner_dim = 2048,\n",
    "        num_attn_heads = 2,\n",
    "        num_attn_layers=3,\n",
    "        cls_head_dims=[],\n",
    "        dropout = 0.1\n",
    "    )\n",
    "\n",
    "    param_count = sum(p.numel() for p in model.parameters())\n",
    "    print(f\"Model parameter count: {param_count:,}\")\n",
    "\n",
    "    test_input = next(iter(train_fetcher))[0]\n",
    "\n",
    "    print(f\"Model MACs: {profile_macs(model, test_input):,}\")\n",
    "    \n",
    "# Model parameter count: 1,790,380\n",
    "# Model MACs: 568,279,052\n",
    "\n",
    "\n",
    "\n",
    "    model.train_model(\n",
    "        epochs=100,\n",
    "        train_fetcher=train_fetcher,\n",
    "        val_fetcher=val_fetcher,\n",
    "        optimizer = torch.optim.Adam,\n",
    "        optimizer_kwargs={\n",
    "            'lr': 3e-3,\n",
    "            'betas': (0.9, 0.98),\n",
    "            'eps': 1e-9,\n",
    "            'weight_decay': 1e-5\n",
    "        },\n",
    "        min_accuracy=1,\n",
    "        max_negative_diff_count=10,\n",
    "        save_path=f'models/p1-{seqlen}.pth',\n",
    "        stop_on_plateau=True,\n",
    "    )\n",
    "\n",
    "    fig = model.plot_training(f'Small Corpus, Sequece Length {seqlen}')\n",
    "    fig.savefig(f'latex/images/p1-{seqlen}.png')\n",
    "    \n",
    "\n",
    "\n",
    "\n"
   ]
  },
  {
   "cell_type": "code",
   "execution_count": null,
   "metadata": {},
   "outputs": [
    {
     "name": "stdout",
     "output_type": "stream",
     "text": [
      "Begin init data loader\n",
      "Batch Size: 0.00244140625 MiB\n",
      "Data Loader init time: 1.064909 s\n",
      "Begin init fetcher\n",
      "Fetcher init time: 1.129873 s\n",
      "Begin init data loader\n",
      "Batch Size: 0.03631591796875 MiB\n",
      "Data Loader init time: 0.201138 s\n",
      "Begin init fetcher\n",
      "Fetcher init time: 0.260208 s\n",
      "Model parameter count: 1,790,380\n",
      "Model MACs: 568,279,052\n",
      "Training TransformerCharPredictor\n",
      "\n",
      "----------------------------------------------------------------------------------------------------------------------------------------------------\n"
     ]
    },
    {
     "name": "stderr",
     "output_type": "stream",
     "text": [
      "/home/jaskin/Intro_Deep_Learning/env/lib/python3.11/site-packages/torchprofile/profile.py:22: UserWarning: No handlers found: \"aten::unflatten\". Skipped.\n",
      "  warnings.warn('No handlers found: \"{}\". Skipped.'.format(\n",
      "/home/jaskin/Intro_Deep_Learning/env/lib/python3.11/site-packages/torchprofile/profile.py:22: UserWarning: No handlers found: \"aten::unsqueeze\". Skipped.\n",
      "  warnings.warn('No handlers found: \"{}\". Skipped.'.format(\n",
      "/home/jaskin/Intro_Deep_Learning/env/lib/python3.11/site-packages/torchprofile/profile.py:22: UserWarning: No handlers found: \"aten::scaled_dot_product_attention\". Skipped.\n",
      "  warnings.warn('No handlers found: \"{}\". Skipped.'.format(\n",
      "/home/jaskin/Intro_Deep_Learning/env/lib/python3.11/site-packages/torchprofile/profile.py:22: UserWarning: No handlers found: \"aten::permute\". Skipped.\n",
      "  warnings.warn('No handlers found: \"{}\". Skipped.'.format(\n"
     ]
    },
    {
     "name": "stdout",
     "output_type": "stream",
     "text": [
      "|       Epoch        |   Epoch Time (s)   |   Training Loss    |  Validation Loss   |Validation Accuracy |   Δ Accuracy (%)   |    Memory Usage    |\n",
      "----------------------------------------------------------------------------------------------------------------------------------------------------\n",
      "|         0          |      1.609514      |      2.921418      |      2.357902      |     38.004202      |      0.000000      |      0.163653      |\n",
      "----------------------------------------------------------------------------------------------------------------------------------------------------\n",
      "|         1          |      1.179281      |      1.987948      |      1.023349      |     78.928572      |     107.683800     |      0.167559      |\n",
      "----------------------------------------------------------------------------------------------------------------------------------------------------\n",
      "|         2          |      1.256592      |      1.210901      |      0.686215      |     83.277309      |      5.509712      |      0.171466      |\n",
      "----------------------------------------------------------------------------------------------------------------------------------------------------\n",
      "|         3          |      1.165680      |      1.045111      |      0.628671      |     84.075630      |      0.958629      |      0.175372      |\n",
      "----------------------------------------------------------------------------------------------------------------------------------------------------\n",
      "|         4          |      1.222550      |      1.007230      |      0.611838      |     84.495801      |      0.499754      |      0.179278      |\n",
      "----------------------------------------------------------------------------------------------------------------------------------------------------\n",
      "|         5          |      1.137619      |      0.980541      |      0.594512      |     84.537816      |      0.049725      |      0.183185      |\n",
      "----------------------------------------------------------------------------------------------------------------------------------------------------\n",
      "|         6          |      1.177674      |      0.981620      |      0.699224      |     82.394958      |     -2.534793      |      0.187091      |\n",
      "----------------------------------------------------------------------------------------------------------------------------------------------------\n",
      "|         7          |      1.051641      |      0.976725      |      0.601925      |     84.264708      |     -0.323061      |      0.190997      |\n",
      "----------------------------------------------------------------------------------------------------------------------------------------------------\n",
      "|         8          |      1.146912      |      0.951337      |      0.573624      |     85.105044      |      0.670975      |      0.194903      |\n",
      "----------------------------------------------------------------------------------------------------------------------------------------------------\n",
      "|         9          |      1.217084      |      0.949550      |      0.594206      |     84.726888      |     -0.444340      |      0.198810      |\n",
      "----------------------------------------------------------------------------------------------------------------------------------------------------\n",
      "|         10         |      1.234403      |      0.971054      |      0.585107      |     84.936976      |     -0.197482      |      0.202716      |\n",
      "----------------------------------------------------------------------------------------------------------------------------------------------------\n",
      "|         11         |      1.169395      |      0.956289      |      0.580498      |     84.747899      |     -0.419652      |      0.206622      |\n",
      "----------------------------------------------------------------------------------------------------------------------------------------------------\n",
      "|         12         |      1.206516      |      0.965411      |      0.572165      |     84.705883      |     -0.469021      |      0.210528      |\n",
      "----------------------------------------------------------------------------------------------------------------------------------------------------\n",
      "|         13         |      1.197671      |      0.953992      |      0.561112      |     85.063022      |     -0.049376      |      0.214435      |\n",
      "----------------------------------------------------------------------------------------------------------------------------------------------------\n",
      "|         14         |      1.179875      |      0.934363      |      0.562681      |     85.147059      |      0.049369      |      0.218341      |\n",
      "----------------------------------------------------------------------------------------------------------------------------------------------------\n",
      "|       Epoch        |   Epoch Time (s)   |   Training Loss    |  Validation Loss   |Validation Accuracy |   Δ Accuracy (%)   |    Memory Usage    |\n",
      "----------------------------------------------------------------------------------------------------------------------------------------------------\n",
      "|         15         |      1.174468      |      0.950724      |      0.548057      |     85.210085      |      0.074020      |      0.220294      |\n",
      "----------------------------------------------------------------------------------------------------------------------------------------------------\n",
      "|         16         |      1.112376      |      0.939627      |      0.570721      |     84.600842      |     -0.714989      |      0.220294      |\n",
      "----------------------------------------------------------------------------------------------------------------------------------------------------\n",
      "|         17         |      1.262889      |      0.946795      |      0.570184      |     84.684873      |     -0.616373      |      0.220294      |\n",
      "----------------------------------------------------------------------------------------------------------------------------------------------------\n",
      "|         18         |      1.084101      |      0.964656      |      0.553299      |     85.399157      |      0.221889      |      0.220294      |\n",
      "----------------------------------------------------------------------------------------------------------------------------------------------------\n",
      "|         19         |      1.203160      |      0.938953      |      0.567497      |     85.273111      |     -0.147596      |      0.220294      |\n",
      "----------------------------------------------------------------------------------------------------------------------------------------------------\n",
      "|         20         |      1.176581      |      0.933415      |      0.562817      |     85.147059      |     -0.295199      |      0.220294      |\n",
      "----------------------------------------------------------------------------------------------------------------------------------------------------\n",
      "|         21         |      1.223661      |      0.964159      |      0.571486      |     85.021007      |     -0.442803      |      0.220294      |\n",
      "----------------------------------------------------------------------------------------------------------------------------------------------------\n",
      "|         22         |      1.233128      |      0.929797      |      0.546025      |     85.252100      |     -0.172199      |      0.220294      |\n",
      "----------------------------------------------------------------------------------------------------------------------------------------------------\n"
     ]
    }
   ],
   "source": [
    "train_and_plot(10)\n",
    "train_and_plot(20)\n",
    "train_and_plot(30)\n"
   ]
  }
 ],
 "metadata": {
  "kernelspec": {
   "display_name": "env",
   "language": "python",
   "name": "python3"
  },
  "language_info": {
   "codemirror_mode": {
    "name": "ipython",
    "version": 3
   },
   "file_extension": ".py",
   "mimetype": "text/x-python",
   "name": "python",
   "nbconvert_exporter": "python",
   "pygments_lexer": "ipython3",
   "version": "3.11.11"
  }
 },
 "nbformat": 4,
 "nbformat_minor": 2
}
